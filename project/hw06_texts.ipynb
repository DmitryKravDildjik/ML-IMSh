{
  "cells": [
    {
      "cell_type": "markdown",
      "metadata": {
        "id": "Ffq6A2-ifzAA"
      },
      "source": [
        "# Интеллектуальный анализ данных – весна 2024\n",
        "# Домашнее задание 6: классификация текстов"
      ]
    },
    {
      "cell_type": "markdown",
      "metadata": {
        "id": "EPcxtekTA1Sm"
      },
      "source": [
        "Правила:\n",
        "\n",
        "\n",
        "\n",
        "*   Домашнее задание оценивается в 10 баллов.\n",
        "*   Можно использовать без доказательства любые результаты, встречавшиеся на лекциях или семинарах по курсу, если получение этих результатов не является вопросом задания.\n",
        "*  Можно использовать любые свободные источники с *обязательным* указанием ссылки на них.\n",
        "*  Плагиат не допускается. При обнаружении случаев списывания, 0 за работу выставляется всем участникам нарушения, даже если можно установить, кто у кого списал.\n",
        "*  Старайтесь сделать код как можно более оптимальным. В частности, будет штрафоваться использование циклов в тех случаях, когда операцию можно совершить при помощи инструментов библиотек, о которых рассказывалось в курсе."
      ]
    },
    {
      "cell_type": "markdown",
      "metadata": {
        "id": "itRtFtrOf0_b"
      },
      "source": [
        "В этом домашнем задании вам предстоит построить классификатор текстов.\n",
        "\n",
        "Будем предсказывать эмоциональную окраску твиттов о коронавирусе.\n",
        "\n"
      ]
    },
    {
      "cell_type": "code",
      "execution_count": 151,
      "metadata": {
        "id": "tNGRVO7_g9mz"
      },
      "outputs": [],
      "source": [
        "import numpy as np\n",
        "import pandas as pd\n",
        "from typing import  List\n",
        "import matplotlib.pyplot as plt\n",
        "import seaborn as sns\n",
        "from string import punctuation"
      ]
    },
    {
      "cell_type": "code",
      "execution_count": 152,
      "metadata": {
        "colab": {
          "base_uri": "https://localhost:8080/",
          "height": 174
        },
        "id": "zOy8iHJQg_Ss",
        "outputId": "01951c93-1976-4fd2-b432-f9ec217dbd17"
      },
      "outputs": [
        {
          "data": {
            "text/html": [
              "<div>\n",
              "<style scoped>\n",
              "    .dataframe tbody tr th:only-of-type {\n",
              "        vertical-align: middle;\n",
              "    }\n",
              "\n",
              "    .dataframe tbody tr th {\n",
              "        vertical-align: top;\n",
              "    }\n",
              "\n",
              "    .dataframe thead th {\n",
              "        text-align: right;\n",
              "    }\n",
              "</style>\n",
              "<table border=\"1\" class=\"dataframe\">\n",
              "  <thead>\n",
              "    <tr style=\"text-align: right;\">\n",
              "      <th></th>\n",
              "      <th>UserName</th>\n",
              "      <th>ScreenName</th>\n",
              "      <th>Location</th>\n",
              "      <th>TweetAt</th>\n",
              "      <th>OriginalTweet</th>\n",
              "      <th>Sentiment</th>\n",
              "    </tr>\n",
              "  </thead>\n",
              "  <tbody>\n",
              "    <tr>\n",
              "      <th>16643</th>\n",
              "      <td>24061</td>\n",
              "      <td>69013</td>\n",
              "      <td>USA</td>\n",
              "      <td>24-03-2020</td>\n",
              "      <td>#PPE \\r\\r\\n#Coronavirus\\r\\r\\n#CoronavirusOutbr...</td>\n",
              "      <td>Extremely Positive</td>\n",
              "    </tr>\n",
              "    <tr>\n",
              "      <th>9749</th>\n",
              "      <td>15637</td>\n",
              "      <td>60589</td>\n",
              "      <td>in Wonderland..</td>\n",
              "      <td>20-03-2020</td>\n",
              "      <td>Just passed by a restaurant and a coffee shop ...</td>\n",
              "      <td>Negative</td>\n",
              "    </tr>\n",
              "    <tr>\n",
              "      <th>24868</th>\n",
              "      <td>34237</td>\n",
              "      <td>79189</td>\n",
              "      <td>Northern VA</td>\n",
              "      <td>06-04-2020</td>\n",
              "      <td>Video: As many people have already pointed out...</td>\n",
              "      <td>Positive</td>\n",
              "    </tr>\n",
              "    <tr>\n",
              "      <th>19158</th>\n",
              "      <td>27117</td>\n",
              "      <td>72069</td>\n",
              "      <td>New Delhi, India</td>\n",
              "      <td>25-03-2020</td>\n",
              "      <td>Release Amulya! \\r\\r\\n\\r\\r\\nRs. 1.2 Trillion C...</td>\n",
              "      <td>Negative</td>\n",
              "    </tr>\n",
              "  </tbody>\n",
              "</table>\n",
              "</div>"
            ],
            "text/plain": [
              "       UserName  ScreenName          Location     TweetAt  \\\n",
              "16643     24061       69013               USA  24-03-2020   \n",
              "9749      15637       60589   in Wonderland..  20-03-2020   \n",
              "24868     34237       79189       Northern VA  06-04-2020   \n",
              "19158     27117       72069  New Delhi, India  25-03-2020   \n",
              "\n",
              "                                           OriginalTweet           Sentiment  \n",
              "16643  #PPE \\r\\r\\n#Coronavirus\\r\\r\\n#CoronavirusOutbr...  Extremely Positive  \n",
              "9749   Just passed by a restaurant and a coffee shop ...            Negative  \n",
              "24868  Video: As many people have already pointed out...            Positive  \n",
              "19158  Release Amulya! \\r\\r\\n\\r\\r\\nRs. 1.2 Trillion C...            Negative  "
            ]
          },
          "execution_count": 152,
          "metadata": {},
          "output_type": "execute_result"
        }
      ],
      "source": [
        "df = pd.read_csv('tweets_coronavirus.csv', encoding='latin-1')\n",
        "df.sample(4)"
      ]
    },
    {
      "cell_type": "markdown",
      "metadata": {
        "id": "m2OiDog9ZBlS"
      },
      "source": [
        "Для каждого твитта указано:\n",
        "\n",
        "\n",
        "*   UserName - имя пользователя, заменено на целое число для анонимности\n",
        "*   ScreenName - отображающееся имя пользователя, заменено на целое число для анонимности\n",
        "*   Location - местоположение\n",
        "*   TweetAt - дата создания твитта\n",
        "*   OriginalTweet - текст твитта\n",
        "*   Sentiment - эмоциональная окраска твитта (целевая переменная)\n",
        "\n"
      ]
    },
    {
      "cell_type": "markdown",
      "metadata": {
        "id": "pZTMseDkhTC7"
      },
      "source": [
        "## Задание 1 Подготовка (0.5 балла)"
      ]
    },
    {
      "cell_type": "markdown",
      "metadata": {
        "id": "Xx2-odn9hdAW"
      },
      "source": [
        "Целевая переменная находится в колонке `Sentiment`.  Преобразуйте ее таким образом, чтобы она стала бинарной: 1 - если у твитта положительная эмоциональная окраска и 0 - если отрицательная."
      ]
    },
    {
      "cell_type": "code",
      "execution_count": 153,
      "metadata": {
        "id": "ZaQKQ1zEjP15"
      },
      "outputs": [],
      "source": [
        "df['Sentiment'] = (df['Sentiment'] == 'Positive').astype(int)"
      ]
    },
    {
      "cell_type": "code",
      "execution_count": 154,
      "metadata": {},
      "outputs": [
        {
          "data": {
            "text/html": [
              "<div>\n",
              "<style scoped>\n",
              "    .dataframe tbody tr th:only-of-type {\n",
              "        vertical-align: middle;\n",
              "    }\n",
              "\n",
              "    .dataframe tbody tr th {\n",
              "        vertical-align: top;\n",
              "    }\n",
              "\n",
              "    .dataframe thead th {\n",
              "        text-align: right;\n",
              "    }\n",
              "</style>\n",
              "<table border=\"1\" class=\"dataframe\">\n",
              "  <thead>\n",
              "    <tr style=\"text-align: right;\">\n",
              "      <th></th>\n",
              "      <th>UserName</th>\n",
              "      <th>ScreenName</th>\n",
              "      <th>Location</th>\n",
              "      <th>TweetAt</th>\n",
              "      <th>OriginalTweet</th>\n",
              "      <th>Sentiment</th>\n",
              "    </tr>\n",
              "  </thead>\n",
              "  <tbody>\n",
              "    <tr>\n",
              "      <th>8474</th>\n",
              "      <td>14108</td>\n",
              "      <td>59060</td>\n",
              "      <td>NaN</td>\n",
              "      <td>20-03-2020</td>\n",
              "      <td>Going to supermarket tomorrow. Had hell of a w...</td>\n",
              "      <td>0</td>\n",
              "    </tr>\n",
              "    <tr>\n",
              "      <th>9391</th>\n",
              "      <td>15201</td>\n",
              "      <td>60153</td>\n",
              "      <td>Liverpool, England</td>\n",
              "      <td>20-03-2020</td>\n",
              "      <td>This is what happened here in spain... first t...</td>\n",
              "      <td>0</td>\n",
              "    </tr>\n",
              "    <tr>\n",
              "      <th>224</th>\n",
              "      <td>4069</td>\n",
              "      <td>49021</td>\n",
              "      <td>Orange County, CA</td>\n",
              "      <td>16-03-2020</td>\n",
              "      <td>Consumer response to #cannabisindustry during ...</td>\n",
              "      <td>1</td>\n",
              "    </tr>\n",
              "    <tr>\n",
              "      <th>25050</th>\n",
              "      <td>34470</td>\n",
              "      <td>79422</td>\n",
              "      <td>Lagos, Nigeria</td>\n",
              "      <td>06-04-2020</td>\n",
              "      <td>I canÃÂt believe I didnÃÂt buy any thing f...</td>\n",
              "      <td>1</td>\n",
              "    </tr>\n",
              "  </tbody>\n",
              "</table>\n",
              "</div>"
            ],
            "text/plain": [
              "       UserName  ScreenName            Location     TweetAt  \\\n",
              "8474      14108       59060                 NaN  20-03-2020   \n",
              "9391      15201       60153  Liverpool, England  20-03-2020   \n",
              "224        4069       49021   Orange County, CA  16-03-2020   \n",
              "25050     34470       79422      Lagos, Nigeria  06-04-2020   \n",
              "\n",
              "                                           OriginalTweet  Sentiment  \n",
              "8474   Going to supermarket tomorrow. Had hell of a w...          0  \n",
              "9391   This is what happened here in spain... first t...          0  \n",
              "224    Consumer response to #cannabisindustry during ...          1  \n",
              "25050  I canÃÂt believe I didnÃÂt buy any thing f...          1  "
            ]
          },
          "execution_count": 154,
          "metadata": {},
          "output_type": "execute_result"
        }
      ],
      "source": [
        "df.sample(4)"
      ]
    },
    {
      "cell_type": "markdown",
      "metadata": {
        "id": "pGq1FxJ-kBo5"
      },
      "source": [
        "Сбалансированы ли классы?"
      ]
    },
    {
      "cell_type": "code",
      "execution_count": 155,
      "metadata": {
        "id": "a7gdNtxckK5V"
      },
      "outputs": [
        {
          "data": {
            "text/plain": [
              "Sentiment\n",
              "0    22022\n",
              "1    11422\n",
              "Name: UserName, dtype: int64"
            ]
          },
          "execution_count": 155,
          "metadata": {},
          "output_type": "execute_result"
        }
      ],
      "source": [
        "df.groupby(['Sentiment']).agg('count').iloc[:, 0]"
      ]
    },
    {
      "cell_type": "markdown",
      "metadata": {
        "id": "Ng8BCelMkWb0"
      },
      "source": [
        "**Ответ:** Нет"
      ]
    },
    {
      "cell_type": "markdown",
      "metadata": {
        "id": "qmSIBSsLk5Zz"
      },
      "source": [
        "Выведете на экран информацию о пропусках в данных. Если пропуски присутствуют заполните их строкой 'Unknown'."
      ]
    },
    {
      "cell_type": "code",
      "execution_count": 156,
      "metadata": {
        "id": "UhUVRkR5kxa7"
      },
      "outputs": [
        {
          "data": {
            "text/plain": [
              "UserName            0\n",
              "ScreenName          0\n",
              "Location         7049\n",
              "TweetAt             0\n",
              "OriginalTweet       0\n",
              "Sentiment           0\n",
              "dtype: int64"
            ]
          },
          "execution_count": 156,
          "metadata": {},
          "output_type": "execute_result"
        }
      ],
      "source": [
        "df.isna().sum(axis=0)"
      ]
    },
    {
      "cell_type": "code",
      "execution_count": 157,
      "metadata": {},
      "outputs": [],
      "source": [
        "df = df.fillna(\"Unknown\")"
      ]
    },
    {
      "cell_type": "markdown",
      "metadata": {
        "id": "1tzt27tfjUpq"
      },
      "source": [
        "Разделите данные на обучающие и тестовые в соотношении 7 : 3 и `random_state=0`"
      ]
    },
    {
      "cell_type": "code",
      "execution_count": 158,
      "metadata": {
        "id": "xSLOA9tIj9Z6"
      },
      "outputs": [],
      "source": [
        "from sklearn.model_selection import train_test_split\n",
        "\n",
        "train, test = train_test_split(df, test_size=0.3, random_state=0)"
      ]
    },
    {
      "cell_type": "markdown",
      "metadata": {
        "id": "J9RrPUsJlL60"
      },
      "source": [
        "## Задание 2 Токенизация (3 балла)"
      ]
    },
    {
      "cell_type": "markdown",
      "metadata": {
        "id": "2Dz_b7Xopc_R"
      },
      "source": [
        "Постройте словарь на основе обучающей выборки и посчитайте количество встреч каждого токена с использованием самой простой токенизации - деления текстов по пробельным символам и приведение токенов в нижний регистр"
      ]
    },
    {
      "cell_type": "code",
      "execution_count": 159,
      "metadata": {
        "id": "SFr67WOJphny"
      },
      "outputs": [],
      "source": [
        "all_tweets = \" \".join(train['OriginalTweet'].values).lower()\n",
        "all_words = all_tweets.split()\n",
        "dictionary = list(set(all_words))"
      ]
    },
    {
      "cell_type": "markdown",
      "metadata": {
        "id": "Pe0h2Jqkpnao"
      },
      "source": [
        "Какой размер словаря получился?"
      ]
    },
    {
      "cell_type": "code",
      "execution_count": 160,
      "metadata": {
        "id": "umyENA7EpokD"
      },
      "outputs": [
        {
          "data": {
            "text/plain": [
              "79755"
            ]
          },
          "execution_count": 160,
          "metadata": {},
          "output_type": "execute_result"
        }
      ],
      "source": [
        "len(dictionary)"
      ]
    },
    {
      "cell_type": "markdown",
      "metadata": {
        "id": "0d2G1Z-Qpqkd"
      },
      "source": [
        "Выведите 10 самых популярных токенов с количеством встреч каждого из них. Объясните, почему именно эти токены в топе"
      ]
    },
    {
      "cell_type": "code",
      "execution_count": 161,
      "metadata": {
        "id": "Impi32a_pssg"
      },
      "outputs": [
        {
          "data": {
            "text/plain": [
              "['the: 26815',\n",
              " 'to: 23373',\n",
              " 'and: 14684',\n",
              " 'of: 13012',\n",
              " 'a: 11737',\n",
              " 'in: 11198',\n",
              " 'for: 8566',\n",
              " '#coronavirus: 8223',\n",
              " 'is: 7383',\n",
              " 'are: 7050']"
            ]
          },
          "execution_count": 161,
          "metadata": {},
          "output_type": "execute_result"
        }
      ],
      "source": [
        "from collections import Counter\n",
        "\n",
        "d = dict(Counter(all_words))\n",
        "popular_tokens = sorted(d.keys(), key=lambda x: d[x], reverse=True)\n",
        "[f\"{i}: {d[i]}\" for i in popular_tokens[:10]]"
      ]
    },
    {
      "cell_type": "markdown",
      "metadata": {
        "id": "ZtuJCD0ApuFd"
      },
      "source": [
        "**Ответ:** потому что они встречаются во всех предложениях, несмотря на их содержание (вспомогательные части речи)"
      ]
    },
    {
      "cell_type": "markdown",
      "metadata": {
        "id": "T7DTQDkWsVYp"
      },
      "source": [
        "Удалите стоп-слова из словаря и выведите новый топ-10 токенов (и количество встреч) по популярности.  Что можно сказать  о нем?"
      ]
    },
    {
      "cell_type": "code",
      "execution_count": 162,
      "metadata": {
        "id": "8csSAdgTsnFx"
      },
      "outputs": [
        {
          "name": "stderr",
          "output_type": "stream",
          "text": [
            "[nltk_data] Downloading package stopwords to\n",
            "[nltk_data]     C:\\Users\\Alexey\\AppData\\Roaming\\nltk_data...\n",
            "[nltk_data]   Package stopwords is already up-to-date!\n"
          ]
        }
      ],
      "source": [
        "import nltk\n",
        "nltk.download('stopwords')\n",
        "from nltk.corpus import stopwords\n"
      ]
    },
    {
      "cell_type": "code",
      "execution_count": 163,
      "metadata": {},
      "outputs": [],
      "source": [
        "stop_words = set(stopwords.words(\"english\"))"
      ]
    },
    {
      "cell_type": "code",
      "execution_count": 164,
      "metadata": {},
      "outputs": [
        {
          "data": {
            "text/plain": [
              "79584"
            ]
          },
          "execution_count": 164,
          "metadata": {},
          "output_type": "execute_result"
        }
      ],
      "source": [
        "dictionary = set(dictionary) - stop_words\n",
        "dictionary = list(dictionary)\n",
        "len(dictionary)"
      ]
    },
    {
      "cell_type": "code",
      "execution_count": 165,
      "metadata": {},
      "outputs": [],
      "source": [
        "all_words = [i for i in all_words if not i in stop_words]"
      ]
    },
    {
      "cell_type": "code",
      "execution_count": 166,
      "metadata": {},
      "outputs": [
        {
          "data": {
            "text/plain": [
              "['#coronavirus: 8223',\n",
              " 'prices: 3891',\n",
              " 'food: 3820',\n",
              " 'grocery: 3469',\n",
              " 'supermarket: 3288',\n",
              " 'people: 3175',\n",
              " 'covid-19: 3173',\n",
              " 'store: 3155',\n",
              " '#covid19: 2471',\n",
              " '&amp;: 2314']"
            ]
          },
          "execution_count": 166,
          "metadata": {},
          "output_type": "execute_result"
        }
      ],
      "source": [
        "d = dict(Counter(all_words))\n",
        "popular_tokens = sorted(d.keys(), key=lambda x: d[x], reverse=True)\n",
        "[f\"{i}: {d[i]}\" for i in popular_tokens[:10]]"
      ]
    },
    {
      "cell_type": "markdown",
      "metadata": {
        "id": "LZH0x2Lzs-Dh"
      },
      "source": [
        "**Ответ:** осмысленно, хотя &amp это кринж"
      ]
    },
    {
      "cell_type": "markdown",
      "metadata": {
        "id": "TKSGRyI-uor0"
      },
      "source": [
        "Также выведите 20 самых непопулярных слов (если самых непопулярных слов больше выведите любые 20 из них) Почему эти токены непопулярны, требуется ли как-то дополнительно работать с ними?"
      ]
    },
    {
      "cell_type": "code",
      "execution_count": 167,
      "metadata": {
        "id": "moArbwfvun9t"
      },
      "outputs": [
        {
          "data": {
            "text/plain": [
              "['skellig: 1',\n",
              " 'coast!: 1',\n",
              " 'closer!): 1',\n",
              " '@skelligsix18: 1',\n",
              " '#skelligcoast2kms: 1',\n",
              " '#southkerry: 1',\n",
              " 'https://t.co/zjcl195vqs: 1',\n",
              " '@srinivasiyc: 1',\n",
              " 'https://t.co/iaek4fwsgz: 1',\n",
              " 'premiership: 1',\n",
              " 'non-playing: 1',\n",
              " 'subsidise: 1',\n",
              " 'playersã\\x82â\\x92: 1',\n",
              " 'renewing: 1',\n",
              " 'wage!: 1',\n",
              " 'flew: 1',\n",
              " 'nothing...: 1',\n",
              " '@torontopearson: 1',\n",
              " '@680news: 1',\n",
              " 'https://t.co/7j2y3rsld9: 1']"
            ]
          },
          "execution_count": 167,
          "metadata": {},
          "output_type": "execute_result"
        }
      ],
      "source": [
        "[f\"{i}: {d[i]}\" for i in popular_tokens[-20:]]"
      ]
    },
    {
      "cell_type": "markdown",
      "metadata": {
        "id": "uRp3J1gQunlR"
      },
      "source": [
        "**Ответ:** знаки препинания можно профильтровать\n",
        "\n"
      ]
    },
    {
      "cell_type": "markdown",
      "metadata": {
        "id": "wx9LQOSPzvjV"
      },
      "source": [
        "Теперь воспользуемся токенайзером получше - TweetTokenizer из библиотеки nltk. Примените его и посмотрите на топ-10 популярных слов. Чем он отличается от топа, который получался раньше? Почему?"
      ]
    },
    {
      "cell_type": "code",
      "execution_count": 168,
      "metadata": {
        "id": "2G1UkyVxzvFY"
      },
      "outputs": [],
      "source": [
        "from nltk.tokenize import TweetTokenizer\n",
        "\n",
        "tokenizer = TweetTokenizer()\n",
        "big_bow = tokenizer.tokenize(all_tweets)"
      ]
    },
    {
      "cell_type": "code",
      "execution_count": 169,
      "metadata": {},
      "outputs": [
        {
          "data": {
            "text/plain": [
              "['the: 26993',\n",
              " '.: 24108',\n",
              " 'to: 23478',\n",
              " ',: 17571',\n",
              " 'and: 14825',\n",
              " 'of: 13044',\n",
              " 'a: 11891',\n",
              " 'in: 11348',\n",
              " '?: 9524',\n",
              " '#coronavirus: 8808']"
            ]
          },
          "execution_count": 169,
          "metadata": {},
          "output_type": "execute_result"
        }
      ],
      "source": [
        "d = dict(Counter(big_bow))\n",
        "popular_tokens = sorted(d.keys(), key=lambda x: d[x], reverse=True)\n",
        "[f\"{i}: {d[i]}\" for i in popular_tokens[:10]]"
      ]
    },
    {
      "cell_type": "markdown",
      "metadata": {
        "id": "50eVUnJN1Zxl"
      },
      "source": [
        "**Ответ:** знаки препинания вынесены в отдельные токены, в остальном тот же трэш"
      ]
    },
    {
      "cell_type": "markdown",
      "metadata": {
        "id": "1gqQgiMs11bs"
      },
      "source": [
        "Удалите из словаря стоп-слова и пунктуацию, посмотрите на новый топ-10 слов с количеством встреч, есть ли теперь в нем что-то не похожее на слова?"
      ]
    },
    {
      "cell_type": "code",
      "execution_count": 170,
      "metadata": {
        "id": "0yHWdFrp0Mup"
      },
      "outputs": [],
      "source": [
        "from string import punctuation\n",
        "\n",
        "# filtered_all_tweets = all_tweets.strip(punctuation) # не работает лол"
      ]
    },
    {
      "cell_type": "code",
      "execution_count": 171,
      "metadata": {},
      "outputs": [],
      "source": [
        "filtered_all_tweets = \"\".join([i for i in all_tweets if not i in punctuation]).replace(\"\\n\", ' ').replace(\"\\t\", ' ').replace(\"\\r\", ' ')"
      ]
    },
    {
      "cell_type": "code",
      "execution_count": 172,
      "metadata": {},
      "outputs": [
        {
          "data": {
            "text/plain": [
              "'why we still want to buy so much stuff during quarantine httpstco1m881cwfuv shopping covid19 online with driving even more usage a strong strategy is critical now more then ever luckily and april 16 webinar will dive into growing app awareness and targeting high lifetime value users canonindia i am very happy great job by canonindia canonforcommunity   httpstcoz0intks34x the us national debt will likely exceed 30 trillion after the unprecedented borrowing by the trump administration and mnuchinã'"
            ]
          },
          "execution_count": 172,
          "metadata": {},
          "output_type": "execute_result"
        }
      ],
      "source": [
        "filtered_all_tweets[:500]"
      ]
    },
    {
      "cell_type": "code",
      "execution_count": 173,
      "metadata": {},
      "outputs": [
        {
          "data": {
            "text/plain": [
              "['covid: 13024',\n",
              " '19: 11827',\n",
              " 'coronavirus: 9924',\n",
              " 'â: 7440',\n",
              " '\\x82: 7336',\n",
              " 'prices: 4609',\n",
              " 'food: 4479',\n",
              " '\\x92: 4374',\n",
              " 'supermarket: 3970',\n",
              " 'store: 3854']"
            ]
          },
          "execution_count": 173,
          "metadata": {},
          "output_type": "execute_result"
        }
      ],
      "source": [
        "big_bow = tokenizer.tokenize(filtered_all_tweets)\n",
        "big_bow = [i for i in big_bow if not i in stop_words]\n",
        "d = dict(Counter(big_bow))\n",
        "popular_tokens = sorted(d.keys(), key=lambda x: d[x], reverse=True)\n",
        "[f\"{i}: {d[i]}\" for i in popular_tokens[:10]]"
      ]
    },
    {
      "cell_type": "markdown",
      "metadata": {
        "id": "8ZJqXELP_Yxy"
      },
      "source": [
        "**Ответ:** есть полетевшая кодировка"
      ]
    },
    {
      "cell_type": "markdown",
      "metadata": {
        "id": "rzXjMsSB_kXB"
      },
      "source": [
        "Удалите из словаря токены из одного символа, с позицией в таблице Unicode 128 и более (`ord(x) >= 128`)\n",
        "\n",
        "Выведите топ-10 самых популярных и топ-20 непопулярных слов. Чем полученные топы отличаются от итоговых топов, полученных при использовании токенизации по пробелам? Что теперь лучше, а что хуже?"
      ]
    },
    {
      "cell_type": "code",
      "execution_count": 174,
      "metadata": {},
      "outputs": [
        {
          "data": {
            "text/plain": [
              "226"
            ]
          },
          "execution_count": 174,
          "metadata": {},
          "output_type": "execute_result"
        }
      ],
      "source": [
        "ord(\"â\")"
      ]
    },
    {
      "cell_type": "code",
      "execution_count": 175,
      "metadata": {
        "id": "1695hlkS_1-J"
      },
      "outputs": [
        {
          "name": "stderr",
          "output_type": "stream",
          "text": [
            "100%|██████████| 515492/515492 [00:00<00:00, 2648435.97it/s]\n"
          ]
        }
      ],
      "source": [
        "from tqdm import tqdm \n",
        "\n",
        "trash = []\n",
        "for word in tqdm(big_bow):\n",
        "    try:\n",
        "        numb = ord(word)\n",
        "        if numb >= 128:\n",
        "            trash.append(word)\n",
        "    except TypeError:\n",
        "        continue"
      ]
    },
    {
      "cell_type": "code",
      "execution_count": 176,
      "metadata": {},
      "outputs": [],
      "source": [
        "trash = list(set(trash))"
      ]
    },
    {
      "cell_type": "code",
      "execution_count": 177,
      "metadata": {},
      "outputs": [
        {
          "data": {
            "text/plain": [
              "['covid: 13024',\n",
              " '19: 11827',\n",
              " 'coronavirus: 9924',\n",
              " 'prices: 4609',\n",
              " 'food: 4479',\n",
              " 'supermarket: 3970',\n",
              " 'store: 3854',\n",
              " 'grocery: 3585',\n",
              " 'people: 3447',\n",
              " 'amp: 3182']"
            ]
          },
          "execution_count": 177,
          "metadata": {},
          "output_type": "execute_result"
        }
      ],
      "source": [
        "big_bow = [i for i in big_bow if not i in trash]\n",
        "d = dict(Counter(big_bow))\n",
        "popular_tokens = sorted(d.keys(), key=lambda x: d[x], reverse=True)\n",
        "[f\"{i}: {d[i]}\" for i in popular_tokens[:10]]"
      ]
    },
    {
      "cell_type": "markdown",
      "metadata": {
        "id": "KzjHAKIlDvc6"
      },
      "source": [
        "**Ответ:** хуже - 19 теперь отдельный токен. Лучше: меньше мусора и больше реально смысла\n"
      ]
    },
    {
      "cell_type": "markdown",
      "metadata": {
        "id": "EcDf9_6HB2zm"
      },
      "source": [
        "Выведите топ-10 популярных хештегов с количеством встреч. Что можно сказать о них?"
      ]
    },
    {
      "cell_type": "code",
      "execution_count": 178,
      "metadata": {
        "id": "zk4fygCUBw3l"
      },
      "outputs": [
        {
          "data": {
            "text/plain": [
              "['#coronavirus: 8808',\n",
              " '#covid19: 2589',\n",
              " '#covid_19: 1734',\n",
              " '#covid2019: 946',\n",
              " '#toiletpaper: 744',\n",
              " '#covid: 641',\n",
              " '#socialdistancing: 465',\n",
              " '#coronacrisis: 448',\n",
              " '#pandemic: 257',\n",
              " '#coronaviruspandemic: 249']"
            ]
          },
          "execution_count": 178,
          "metadata": {},
          "output_type": "execute_result"
        }
      ],
      "source": [
        "hashtags = tokenizer.tokenize(all_tweets)\n",
        "hashtags = [i for i in hashtags if i.startswith(\"#\")]\n",
        "d_ = dict(Counter(hashtags))\n",
        "popular_hashtags = sorted(d_.keys(), key=lambda x: d_[x], reverse=True)\n",
        "[f\"{i}: {d_[i]}\" for i in popular_hashtags[:10]]"
      ]
    },
    {
      "cell_type": "markdown",
      "metadata": {
        "id": "-6NeNWBkDxM7"
      },
      "source": [
        "**Ответ:** хаха туальтная бумага))))\n"
      ]
    },
    {
      "cell_type": "markdown",
      "metadata": {
        "id": "LLYBg7caD5GA"
      },
      "source": [
        "То же самое проделайте для ссылок на сайт https://t.co Сравнима ли популярность ссылок с популярностью хештегов? Будет ли информация о ссылке на конкретную страницу полезна?"
      ]
    },
    {
      "cell_type": "code",
      "execution_count": 179,
      "metadata": {
        "id": "MXbm1oeaCK9S"
      },
      "outputs": [
        {
          "data": {
            "text/plain": [
              "['https://t.co/oxa7swtond: 5',\n",
              " 'https://t.co/gp3eusapl8: 4',\n",
              " 'https://t.co/deftrui1pfã\\x82â: 3',\n",
              " 'https://t.co/wrlhyzizaa: 3',\n",
              " 'https://t.co/kuwipf1kqw: 3',\n",
              " 'https://t.co/zjnrx6dkkn: 3',\n",
              " 'https://t.co/3gbbdpdjat: 3',\n",
              " 'https://t.co/e2znxajpre: 3',\n",
              " 'https://t.co/catkegayoy: 3',\n",
              " 'https://t.co/g63rp042ho: 3']"
            ]
          },
          "execution_count": 179,
          "metadata": {},
          "output_type": "execute_result"
        }
      ],
      "source": [
        "links = tokenizer.tokenize(all_tweets)\n",
        "links = [i for i in links if i.startswith(\"https://t.co\")]\n",
        "d_ = dict(Counter(links))\n",
        "popular_links = sorted(d_.keys(), key=lambda x: d_[x], reverse=True)\n",
        "[f\"{i}: {d_[i]}\" for i in popular_links[:10]]"
      ]
    },
    {
      "cell_type": "markdown",
      "metadata": {
        "id": "at6lRYZ8A07N"
      },
      "source": [
        "**Ответ:** хэштеги проще читать и писать, меньше букав больше популярности"
      ]
    },
    {
      "cell_type": "markdown",
      "metadata": {
        "id": "IOGdUU1kBU1D"
      },
      "source": [
        "Используем опыт предыдущих экспериментов и напишем собственный токенайзер, улучшив TweetTokenizer. Функция tokenize должна:\n",
        "\n",
        "\n",
        "\n",
        "*   Привести текст в нижний регистр\n",
        "*   Применить TweetTokenizer для изначального выделения токенов\n",
        "*   Удалить стоп-слова, пунктуацию, токены из одного символа, с позицией в таблице Unicode 128 и более и ссылки на t.co\n",
        "\n"
      ]
    },
    {
      "cell_type": "code",
      "execution_count": 180,
      "metadata": {
        "id": "ctEsB6xkFrrK"
      },
      "outputs": [],
      "source": [
        "def custom_tokenizer(text):\n",
        "\n",
        "    trash = []\n",
        "    for word in text:\n",
        "        try:\n",
        "            numb = ord(word)\n",
        "            if numb >= 128:\n",
        "                trash.append(word)\n",
        "        except TypeError:\n",
        "            continue\n",
        "        \n",
        "    trash = set(trash + list(stop_words))  \n",
        "    tokenizer = TweetTokenizer()\n",
        "    filtered_text = \"\".join([i for i in text if not i in punctuation]).lower().replace(\"\\n\", ' ').replace(\"\\t\", ' ').replace(\"\\r\", ' ')\n",
        "    \n",
        "    tokens = tokenizer.tokenize(filtered_text)\n",
        "    tokens = [i for i in tokens if not i in trash and not i.startswith(\"https\")]\n",
        "    \n",
        "    return tokens\n"
      ]
    },
    {
      "cell_type": "code",
      "execution_count": 181,
      "metadata": {
        "colab": {
          "base_uri": "https://localhost:8080/"
        },
        "id": "XwbgtYkJGYym",
        "outputId": "5808765b-3448-45e6-ccc1-7cd65f6371ef"
      },
      "outputs": [
        {
          "data": {
            "text/plain": [
              "['sample', 'text', 'sampletext', 'sampletext']"
            ]
          },
          "execution_count": 181,
          "metadata": {},
          "output_type": "execute_result"
        }
      ],
      "source": [
        "custom_tokenizer('This is sample text!!!! @Sample_text I, \\x92\\x92 https://t.co/sample  #sampletext')"
      ]
    },
    {
      "cell_type": "markdown",
      "metadata": {
        "id": "wURVABmXHk97"
      },
      "source": [
        "## Задание 3 Векторизация текстов (2 балла)"
      ]
    },
    {
      "cell_type": "markdown",
      "metadata": {
        "id": "H44iXkoHIQfN"
      },
      "source": [
        "Обучите CountVectorizer с использованием custom_tokenizer в качестве токенайзера. Как размер полученного словаря соотносится с размером изначального словаря из начала задания 2?"
      ]
    },
    {
      "cell_type": "code",
      "execution_count": 182,
      "metadata": {
        "colab": {
          "base_uri": "https://localhost:8080/"
        },
        "id": "gHn_limQl3BI",
        "outputId": "8e9c1826-319f-4376-f06e-c30c2eb82648"
      },
      "outputs": [
        {
          "name": "stdout",
          "output_type": "stream",
          "text": [
            "53046\n"
          ]
        }
      ],
      "source": [
        "from sklearn.feature_extraction.text import CountVectorizer\n",
        "\n",
        "cv = CountVectorizer()\n",
        "cv.fit(custom_tokenizer(all_tweets))\n",
        "print(len(cv.vocabulary_))"
      ]
    },
    {
      "cell_type": "code",
      "execution_count": 183,
      "metadata": {},
      "outputs": [
        {
          "data": {
            "text/plain": [
              "61110"
            ]
          },
          "execution_count": 183,
          "metadata": {},
          "output_type": "execute_result"
        }
      ],
      "source": [
        "len(popular_tokens)"
      ]
    },
    {
      "cell_type": "markdown",
      "metadata": {
        "id": "gsfmaSGoItUm"
      },
      "source": [
        "**Ответ:** токенов стало меньше, они стали эффективнее"
      ]
    },
    {
      "cell_type": "markdown",
      "metadata": {
        "id": "lm6UHNmqKZT0"
      },
      "source": [
        "Посмотрим на какой-нибудь конкретный твитт:"
      ]
    },
    {
      "cell_type": "code",
      "execution_count": 184,
      "metadata": {
        "id": "aJVjjfqOJh8m"
      },
      "outputs": [
        {
          "data": {
            "text/plain": [
              "('Nice one @SkyNews lets not panic but show ppl in france queueing for food!!! #CoronavirusOutbreak #COVID2019 brainless!! Ffs',\n",
              " 0)"
            ]
          },
          "execution_count": 184,
          "metadata": {},
          "output_type": "execute_result"
        }
      ],
      "source": [
        "ind = 9023\n",
        "train.iloc[ind]['OriginalTweet'], train.iloc[ind]['Sentiment']"
      ]
    },
    {
      "cell_type": "markdown",
      "metadata": {
        "id": "PBMIHBI5KdaS"
      },
      "source": [
        "Автор твитта не доволен ситуацией с едой во Франции и текст имеет резко негативную окраску.\n",
        "\n",
        "Примените обученный CountVectorizer для векторизации данного текста, и попытайтесь определить самый важный токен и самый неважный токен (токен, компонента которого в векторе максимальна/минимальна, без учета 0). Хорошо ли они определились, почему?"
      ]
    },
    {
      "cell_type": "code",
      "execution_count": 185,
      "metadata": {},
      "outputs": [],
      "source": [
        "vector = cv.transform([train.iloc[ind]['OriginalTweet']])\n",
        "size = (vector.toarray() > 0).sum()"
      ]
    },
    {
      "cell_type": "code",
      "execution_count": 186,
      "metadata": {
        "id": "7NcAllaEKsJj"
      },
      "outputs": [
        {
          "data": {
            "text/plain": [
              "array([32558, 44813, 25631, 25972, 41016, 19811, 38318, 37513, 36478,\n",
              "       45189, 39903, 25073, 16258], dtype=int64)"
            ]
          },
          "execution_count": 186,
          "metadata": {},
          "output_type": "execute_result"
        }
      ],
      "source": [
        "# Важность по возрастанию\n",
        "idxs = np.argsort(vector.toarray()[0])[-size:]\n",
        "idxs"
      ]
    },
    {
      "cell_type": "code",
      "execution_count": 187,
      "metadata": {},
      "outputs": [
        {
          "data": {
            "text/plain": [
              "[(32558, 'lets'),\n",
              " (44813, 'show'),\n",
              " (25631, 'food'),\n",
              " (25972, 'france'),\n",
              " (41016, 'queueing'),\n",
              " (19811, 'coronavirusoutbreak'),\n",
              " (38318, 'panic'),\n",
              " (37513, 'one'),\n",
              " (36478, 'nice'),\n",
              " (45189, 'skynews'),\n",
              " (39903, 'ppl'),\n",
              " (25073, 'ffs'),\n",
              " (16258, 'brainless')]"
            ]
          },
          "execution_count": 187,
          "metadata": {},
          "output_type": "execute_result"
        }
      ],
      "source": [
        "sorted([(j, i) for i, j in cv.vocabulary_.items() if j in idxs], key=lambda x: list(idxs).index(x[0]))"
      ]
    },
    {
      "cell_type": "markdown",
      "metadata": {
        "id": "TpEsl1k_NF4T"
      },
      "source": [
        "**Ответ:** значения в векторе не отображают важности, они лишь показывают количество вхождений токена в текст, в нашем случае это 0 и 1"
      ]
    },
    {
      "cell_type": "markdown",
      "metadata": {
        "id": "w4DsEQpLO3J6"
      },
      "source": [
        "Теперь примените TfidfVectorizer и  определите самый важный/неважный токены. Хорошо ли определились, почему?"
      ]
    },
    {
      "cell_type": "code",
      "execution_count": 188,
      "metadata": {
        "id": "uSNzdK3ENGB3"
      },
      "outputs": [
        {
          "name": "stdout",
          "output_type": "stream",
          "text": [
            "53046\n"
          ]
        }
      ],
      "source": [
        "from sklearn.feature_extraction.text import TfidfVectorizer\n",
        "\n",
        "tfidfv = TfidfVectorizer()\n",
        "tfidfv.fit(custom_tokenizer(filtered_all_tweets))\n",
        "print(len(tfidfv.vocabulary_))"
      ]
    },
    {
      "cell_type": "code",
      "execution_count": 189,
      "metadata": {},
      "outputs": [
        {
          "data": {
            "text/plain": [
              "array([25631, 38318, 37513, 19811, 44813, 32558, 39903, 36478, 45189,\n",
              "       25972, 25073, 41016, 16258], dtype=int64)"
            ]
          },
          "execution_count": 189,
          "metadata": {},
          "output_type": "execute_result"
        }
      ],
      "source": [
        "vector = tfidfv.transform([train.iloc[ind]['OriginalTweet']])\n",
        "size = (vector.toarray() > 0).sum()\n",
        "\n",
        "# Важность по возрастанию\n",
        "idxs = np.argsort(vector.toarray()[0])[-size:]\n",
        "idxs\n"
      ]
    },
    {
      "cell_type": "code",
      "execution_count": 190,
      "metadata": {},
      "outputs": [
        {
          "data": {
            "text/plain": [
              "[(25631, 'food'),\n",
              " (38318, 'panic'),\n",
              " (37513, 'one'),\n",
              " (19811, 'coronavirusoutbreak'),\n",
              " (44813, 'show'),\n",
              " (32558, 'lets'),\n",
              " (39903, 'ppl'),\n",
              " (36478, 'nice'),\n",
              " (45189, 'skynews'),\n",
              " (25972, 'france'),\n",
              " (25073, 'ffs'),\n",
              " (41016, 'queueing'),\n",
              " (16258, 'brainless')]"
            ]
          },
          "execution_count": 190,
          "metadata": {},
          "output_type": "execute_result"
        }
      ],
      "source": [
        "sorted([(j, i) for i, j in tfidfv.vocabulary_.items() if j in idxs], key=lambda x: list(idxs).index(x[0]))"
      ]
    },
    {
      "cell_type": "markdown",
      "metadata": {
        "id": "NYao_UhqQADm"
      },
      "source": [
        "**Ответ:** самое важное слово теперь реально отображает настроение. метрика тфидф помогает "
      ]
    },
    {
      "cell_type": "markdown",
      "metadata": {
        "id": "LGRJPqfWSesQ"
      },
      "source": [
        "Найдите какой-нибудь положительно окрашенный твитт, где TfidfVectorizer хорошо (полезно для определения окраски) выделяет важный токен, поясните пример.\n",
        "\n",
        "*Подсказка:* явно положительные твитты можно искать при помощи положительных слов (good, great, amazing и т. д.)"
      ]
    },
    {
      "cell_type": "code",
      "execution_count": 191,
      "metadata": {
        "colab": {
          "base_uri": "https://localhost:8080/",
          "height": 53
        },
        "id": "bRbQ2CHiSuJI",
        "outputId": "c4b34a7d-1076-4e1e-ad5c-9466fd2097c2"
      },
      "outputs": [],
      "source": [
        "good_tweet = train[train['OriginalTweet'].apply(lambda x: 'amazing' in x) & (train['Sentiment'] == 1)].iloc[0]['OriginalTweet']"
      ]
    },
    {
      "cell_type": "code",
      "execution_count": 192,
      "metadata": {
        "id": "jSjbKPCWk87K"
      },
      "outputs": [
        {
          "data": {
            "text/plain": [
              "[(19715, 'coronavirus'),\n",
              " (47215, 'supermarket'),\n",
              " (52352, 'workers'),\n",
              " (44684, 'shop'),\n",
              " (14673, 'back'),\n",
              " (24082, 'etc'),\n",
              " (31024, 'job'),\n",
              " (36456, 'nhs'),\n",
              " (39113, 'pharmacy'),\n",
              " (13295, 'amazing'),\n",
              " (34102, 'massive'),\n",
              " (42728, 'road'),\n",
              " (18671, 'co'),\n",
              " (44805, 'shout'),\n",
              " (16304, 'braving'),\n",
              " (47515, 'sweepers'),\n",
              " (21056, 'day'),\n",
              " (46165, 'staff'),\n",
              " (26165, 'frontline')]"
            ]
          },
          "execution_count": 192,
          "metadata": {},
          "output_type": "execute_result"
        }
      ],
      "source": [
        "vector = tfidfv.transform([good_tweet])\n",
        "size = (vector.toarray() > 0).sum()\n",
        "\n",
        "# Важность по возрастанию\n",
        "idxs = np.argsort(vector.toarray()[0])[-size:]\n",
        "sorted([(j, i) for i, j in tfidfv.vocabulary_.items() if j in idxs], key=lambda x: list(idxs).index(x[0]))"
      ]
    },
    {
      "cell_type": "markdown",
      "metadata": {
        "id": "JTv9ST2_U6NA"
      },
      "source": [
        "**Ответ:** работает)))"
      ]
    },
    {
      "cell_type": "markdown",
      "metadata": {
        "id": "JVEuZm8BHms6"
      },
      "source": [
        "## Задание 4 Обучение первых моделей (1 балл)"
      ]
    },
    {
      "cell_type": "markdown",
      "metadata": {
        "id": "JADkO3sfXdOG"
      },
      "source": [
        "Примените оба векторайзера для получения матриц с признаками текстов.  Выделите целевую переменную."
      ]
    },
    {
      "cell_type": "code",
      "execution_count": 193,
      "metadata": {
        "id": "DguoiXhCX2oN"
      },
      "outputs": [],
      "source": [
        "X_train, y_train = train.iloc[:, -2], train.iloc[:, -1]\n",
        "X_test, y_test = test.iloc[:, -2], test.iloc[:, -1]\n",
        "X_train_1 = cv.transform(X_train)\n",
        "X_train_2 = tfidfv.transform(X_train)\n",
        "X_test_1 = cv.transform(X_test)\n",
        "X_test_2 = tfidfv.transform(X_test)"
      ]
    },
    {
      "cell_type": "markdown",
      "metadata": {
        "id": "_FX1KSOfYSx4"
      },
      "source": [
        "Обучите логистическую регрессию на векторах из обоих векторайзеров. Посчитайте долю правильных ответов на обучающих и тестовых данных. Какой векторайзер показал лучший результат? Что можно сказать о моделях?"
      ]
    },
    {
      "cell_type": "code",
      "execution_count": 194,
      "metadata": {
        "id": "-Tb3eh8UXJ6v"
      },
      "outputs": [
        {
          "name": "stdout",
          "output_type": "stream",
          "text": [
            "count vectorizer, train : 0.928\n",
            "count vectorizer, test : 0.676\n",
            "tfidf vectorizer, train : 0.782\n",
            "tfidf vectorizer, test : 0.679\n"
          ]
        }
      ],
      "source": [
        "from sklearn.linear_model import LogisticRegression\n",
        "from sklearn.metrics import accuracy_score\n",
        "from warnings import filterwarnings\n",
        "filterwarnings('ignore')\n",
        "\n",
        "lr = LogisticRegression()\n",
        "lr.fit(X_train_1, y_train)\n",
        "print(f\"count vectorizer, train : {accuracy_score(y_train, lr.predict(X_train_1)):.3f}\")\n",
        "print(f\"count vectorizer, test : {accuracy_score(y_test, lr.predict(X_test_1)):.3f}\")\n",
        "lr.fit(X_train_2, y_train)\n",
        "print(f\"tfidf vectorizer, train : {accuracy_score(y_train, lr.predict(X_train_2)):.3f}\")\n",
        "print(f\"tfidf vectorizer, test : {accuracy_score(y_test, lr.predict(X_test_2)):.3f}\")"
      ]
    },
    {
      "cell_type": "markdown",
      "metadata": {
        "id": "8y_wO7rCmv7K"
      },
      "source": [
        "**Ответ:** tfidf меньше переобучается. По acc сделать хороший вывод нельзя, надо смотреть на precision и recall и confusion matrix,  но предварительно выглядит норм"
      ]
    },
    {
      "cell_type": "markdown",
      "metadata": {
        "id": "rSOR1i3mjrys"
      },
      "source": [
        "## Задание 5 Стемминг (0.5 балла)"
      ]
    },
    {
      "cell_type": "markdown",
      "metadata": {
        "id": "i6ONBWNPjuq-"
      },
      "source": [
        "Для уменьшения словаря можно использовать стемминг.\n",
        "\n",
        "Модифицируйте написанный токенайзер, добавив в него стемминг с использованием SnowballStemmer. Обучите Count- и Tfidf- векторайзеры. Как изменился размер словаря?"
      ]
    },
    {
      "cell_type": "code",
      "execution_count": 195,
      "metadata": {
        "id": "oVfA2-iMkQBb"
      },
      "outputs": [],
      "source": [
        "from nltk.stem.snowball import SnowballStemmer\n",
        "\n",
        "stemmer = SnowballStemmer('english')\n",
        "\n",
        "def custom_stem_tokenizer(text):\n",
        "\n",
        "  tokens = custom_tokenizer(text)\n",
        "  stemmed_tokens = [stemmer.stem(w) for w in tokens]\n",
        "\n",
        "  return stemmed_tokens"
      ]
    },
    {
      "cell_type": "code",
      "execution_count": 196,
      "metadata": {},
      "outputs": [
        {
          "data": {
            "text/plain": [
              "['sampl', 'text', 'sampletext', 'sampletext', 'ad', 'word', 'check', 'stem']"
            ]
          },
          "execution_count": 196,
          "metadata": {},
          "output_type": "execute_result"
        }
      ],
      "source": [
        "custom_stem_tokenizer('This is sample text!!!! @Sample_text I, \\x92\\x92 https://t.co/sample  #sampletext adding more words to check stemming')"
      ]
    },
    {
      "cell_type": "code",
      "execution_count": 197,
      "metadata": {
        "colab": {
          "base_uri": "https://localhost:8080/"
        },
        "id": "zAvUTmaplzOS",
        "outputId": "566207fe-183b-4ed6-d333-f86f0cc9ae38"
      },
      "outputs": [
        {
          "name": "stdout",
          "output_type": "stream",
          "text": [
            "44822\n"
          ]
        }
      ],
      "source": [
        "cv = CountVectorizer()\n",
        "cv.fit(custom_stem_tokenizer(all_tweets))\n",
        "print(len(cv.vocabulary_))"
      ]
    },
    {
      "cell_type": "code",
      "execution_count": 198,
      "metadata": {},
      "outputs": [
        {
          "name": "stdout",
          "output_type": "stream",
          "text": [
            "44822\n"
          ]
        }
      ],
      "source": [
        "tfidfv = TfidfVectorizer()\n",
        "tfidfv.fit(custom_stem_tokenizer(all_tweets))\n",
        "print(len(tfidfv.vocabulary_))"
      ]
    },
    {
      "cell_type": "markdown",
      "metadata": {
        "id": "Oyzs5TaAoHP6"
      },
      "source": [
        "**Ответ** размер словаря упал на 20%, это отлично"
      ]
    },
    {
      "cell_type": "markdown",
      "metadata": {
        "id": "1OkncHI8oRmd"
      },
      "source": [
        "Обучите логистическую регрессию с использованием обоих векторайзеров. Изменилось ли качество? Есть ли смысл применять стемминг?"
      ]
    },
    {
      "cell_type": "code",
      "execution_count": 199,
      "metadata": {
        "id": "ykZJPphEoZ5W"
      },
      "outputs": [
        {
          "name": "stdout",
          "output_type": "stream",
          "text": [
            "count vectorizer, train : 0.829\n",
            "count vectorizer, test : 0.645\n",
            "tfidf vectorizer, train : 0.715\n",
            "tfidf vectorizer, test : 0.662\n"
          ]
        }
      ],
      "source": [
        "X_train, y_train = train.iloc[:, -2], train.iloc[:, -1]\n",
        "X_test, y_test = test.iloc[:, -2], test.iloc[:, -1]\n",
        "X_train_1 = cv.transform(X_train)\n",
        "X_train_2 = tfidfv.transform(X_train)\n",
        "X_test_1 = cv.transform(X_test)\n",
        "X_test_2 = tfidfv.transform(X_test)\n",
        "\n",
        "lr = LogisticRegression()\n",
        "lr.fit(X_train_1, y_train)\n",
        "print(f\"count vectorizer, train : {accuracy_score(y_train, lr.predict(X_train_1)):.3f}\")\n",
        "print(f\"count vectorizer, test : {accuracy_score(y_test, lr.predict(X_test_1)):.3f}\")\n",
        "lr.fit(X_train_2, y_train)\n",
        "print(f\"tfidf vectorizer, train : {accuracy_score(y_train, lr.predict(X_train_2)):.3f}\")\n",
        "print(f\"tfidf vectorizer, test : {accuracy_score(y_test, lr.predict(X_test_2)):.3f}\")"
      ]
    },
    {
      "cell_type": "markdown",
      "metadata": {
        "id": "bCRlrODro0h8"
      },
      "source": [
        "**Ответ:** ещё меньше переобучение, но точность на валидации не выросла. "
      ]
    },
    {
      "cell_type": "markdown",
      "metadata": {
        "id": "hYWGQNEDqLC-"
      },
      "source": [
        "## Задание  6 Работа с частотами (1.5 балла)"
      ]
    },
    {
      "cell_type": "markdown",
      "metadata": {
        "id": "8Hq-tl5mqUSn"
      },
      "source": [
        "Еще один способ уменьшить количество признаков - это использовать параметры min_df и max_df при построении векторайзера  эти параметры помогают ограничить требуемую частоту встречаемости токена в документах.\n",
        "\n",
        "По умолчанию берутся все токены, которые встретились хотя бы один раз.\n",
        "\n"
      ]
    },
    {
      "cell_type": "markdown",
      "metadata": {
        "id": "m1SiD4DE3WZ2"
      },
      "source": [
        "Подберите max_df такой, что размер словаря будет 44822 (на 1 меньше, чем было). Почему параметр получился такой большой/маленький?"
      ]
    },
    {
      "cell_type": "code",
      "execution_count": 200,
      "metadata": {
        "colab": {
          "base_uri": "https://localhost:8080/"
        },
        "id": "o3YLb8PViExb",
        "outputId": "b6d67654-d232-4e11-a5ca-6f2145053e98"
      },
      "outputs": [
        {
          "name": "stdout",
          "output_type": "stream",
          "text": [
            "44822\n"
          ]
        }
      ],
      "source": [
        "cv_df = CountVectorizer(tokenizer=custom_stem_tokenizer,\n",
        "                        max_df=11000\n",
        "                        ).fit(\n",
        "                            train['OriginalTweet']\n",
        "                            )\n",
        "print(len(cv_df.vocabulary_))"
      ]
    },
    {
      "cell_type": "code",
      "execution_count": 201,
      "metadata": {},
      "outputs": [
        {
          "data": {
            "text/plain": [
              "(23410, 6)"
            ]
          },
          "execution_count": 201,
          "metadata": {},
          "output_type": "execute_result"
        }
      ],
      "source": [
        "train.shape"
      ]
    },
    {
      "cell_type": "markdown",
      "metadata": {
        "id": "UdZYoGZR4UsA"
      },
      "source": [
        "**Ответ:** такое большое потому, что много твитов (23 к)"
      ]
    },
    {
      "cell_type": "markdown",
      "metadata": {
        "id": "_gRIUaB1u32f"
      },
      "source": [
        "Подберите min_df (используйте дефолтное значение max_df) в CountVectorizer таким образом, чтобы размер словаря был 3700 токенов (при использовании токенайзера со стеммингом), а качество осталось таким же, как и было. Что можно сказать о результатах?"
      ]
    },
    {
      "cell_type": "code",
      "execution_count": 202,
      "metadata": {
        "colab": {
          "base_uri": "https://localhost:8080/"
        },
        "id": "kSnMJkn9XmsT",
        "outputId": "e0d8eb21-e5d7-46b4-e1d1-4b1ae220e9a0"
      },
      "outputs": [
        {
          "name": "stdout",
          "output_type": "stream",
          "text": [
            "3819\n"
          ]
        }
      ],
      "source": [
        "cv_df = CountVectorizer(tokenizer=custom_stem_tokenizer,\n",
        "                        min_df=10\n",
        "                        ).fit(\n",
        "                            train['OriginalTweet']\n",
        "                            )\n",
        "print(len(cv_df.vocabulary_))"
      ]
    },
    {
      "cell_type": "code",
      "execution_count": 203,
      "metadata": {
        "id": "mvMDwpdfjm8Y"
      },
      "outputs": [
        {
          "name": "stdout",
          "output_type": "stream",
          "text": [
            "count vectorizer, 3819 tokens, train : 0.784\n",
            "count vectorizer, 3819 tokens, test : 0.673\n"
          ]
        }
      ],
      "source": [
        "X_train, y_train = train.iloc[:, -2], train.iloc[:, -1]\n",
        "X_test, y_test = test.iloc[:, -2], test.iloc[:, -1]\n",
        "X_train_1 = cv_df.transform(X_train)\n",
        "X_test_1 = cv_df.transform(X_test)\n",
        "\n",
        "lr = LogisticRegression()\n",
        "lr.fit(X_train_1, y_train)\n",
        "print(f\"count vectorizer, 3819 tokens, train : {accuracy_score(y_train, lr.predict(X_train_1)):.3f}\")\n",
        "print(f\"count vectorizer, 3819 tokens, test : {accuracy_score(y_test, lr.predict(X_test_1)):.3f}\")"
      ]
    },
    {
      "cell_type": "markdown",
      "metadata": {
        "id": "3fGYpUIZx0fk"
      },
      "source": [
        "**Ответ:** точность осталась на уровне, а число фичей упало больше чем в 10 раз"
      ]
    },
    {
      "cell_type": "markdown",
      "metadata": {
        "id": "Gx_h_-inKbBl"
      },
      "source": [
        "В предыдущих заданиях признаки не скалировались. Отскалируйте данные (при словаре размера 3.7 тысяч, векторизованные CountVectorizer), обучите логистическую регрессию, посмотрите качество и выведите `berplot` содержащий по 10 токенов, с наибольшим по модулю положительными/отрицательными весами. Что можно сказать об этих токенах?"
      ]
    },
    {
      "cell_type": "code",
      "execution_count": 204,
      "metadata": {
        "id": "KBATXJX6LG9q"
      },
      "outputs": [
        {
          "name": "stdout",
          "output_type": "stream",
          "text": [
            "count vectorizer, 3819 tokens, scaling, train : 0.788\n",
            "count vectorizer, 3819 tokens, scaling, test : 0.663\n"
          ]
        }
      ],
      "source": [
        "from sklearn.preprocessing import StandardScaler\n",
        "\n",
        "scaler = StandardScaler()\n",
        "\n",
        "X_train_1 = scaler.fit_transform(X_train_1.toarray())\n",
        "X_test_1 = scaler.transform(X_test_1.toarray())\n",
        "\n",
        "lr = LogisticRegression()\n",
        "lr.fit(X_train_1, y_train)\n",
        "print(f\"count vectorizer, 3819 tokens, scaling, train : {accuracy_score(y_train, lr.predict(X_train_1)):.3f}\")\n",
        "print(f\"count vectorizer, 3819 tokens, scaling, test : {accuracy_score(y_test, lr.predict(X_test_1)):.3f}\")"
      ]
    },
    {
      "cell_type": "code",
      "execution_count": 205,
      "metadata": {},
      "outputs": [],
      "source": [
        "max_idxs = X_test_1.max(axis=0).argsort()[-10:]\n",
        "min_idxs = X_test_1.min(axis=0).argsort()[:10]"
      ]
    },
    {
      "cell_type": "code",
      "execution_count": 206,
      "metadata": {},
      "outputs": [
        {
          "data": {
            "text/plain": [
              "[(22, '19'),\n",
              " (892, 'covid'),\n",
              " (845, 'coronavirus'),\n",
              " (2602, 'price'),\n",
              " (3293, 'supermarket'),\n",
              " (3239, 'store'),\n",
              " (1411, 'food'),\n",
              " (1582, 'groceri'),\n",
              " (2457, 'peopl'),\n",
              " (802, 'consum')]"
            ]
          },
          "execution_count": 206,
          "metadata": {},
          "output_type": "execute_result"
        }
      ],
      "source": [
        "sorted([(j, i) for i, j in cv_df.vocabulary_.items() if j in min_idxs], key=lambda x: list(min_idxs).index(x[0]))"
      ]
    },
    {
      "cell_type": "code",
      "execution_count": 207,
      "metadata": {},
      "outputs": [
        {
          "data": {
            "text/plain": [
              "[(740, 'colorado'),\n",
              " (815, 'context'),\n",
              " (3035, 'shot'),\n",
              " (1593, 'gtgtgt'),\n",
              " (484, 'blind'),\n",
              " (2984, 'senat'),\n",
              " (3469, 'toy'),\n",
              " (1455, 'freedom'),\n",
              " (1907, 'kg'),\n",
              " (3679, 'wealth')]"
            ]
          },
          "execution_count": 207,
          "metadata": {},
          "output_type": "execute_result"
        }
      ],
      "source": [
        "sorted([(j, i) for i, j in cv_df.vocabulary_.items() if j in max_idxs], key=lambda x: list(max_idxs).index(x[0]))"
      ]
    },
    {
      "cell_type": "code",
      "execution_count": 208,
      "metadata": {},
      "outputs": [
        {
          "data": {
            "text/plain": [
              "<BarContainer object of 10 artists>"
            ]
          },
          "execution_count": 208,
          "metadata": {},
          "output_type": "execute_result"
        },
        {
          "data": {
            "image/png": "[encoded data removed]",
            "text/plain": [
              "<Figure size 1000x700 with 1 Axes>"
            ]
          },
          "metadata": {},
          "output_type": "display_data"
        }
      ],
      "source": [
        "import matplotlib.pyplot as plt\n",
        "\n",
        "names_max = sorted([(j, i) for i, j in cv_df.vocabulary_.items() if j in max_idxs], key=lambda x: list(max_idxs).index(x[0]))\n",
        "plt.figure(figsize=(10,7))\n",
        "plt.grid()\n",
        "plt.bar(height=sorted(X_test_1.max(axis=0))[-10:], x=[i[1] for i in names_max])"
      ]
    },
    {
      "cell_type": "code",
      "execution_count": 209,
      "metadata": {},
      "outputs": [
        {
          "data": {
            "text/plain": [
              "<BarContainer object of 10 artists>"
            ]
          },
          "execution_count": 209,
          "metadata": {},
          "output_type": "execute_result"
        },
        {
          "data": {
            "image/png": "[encoded data removed]",
            "text/plain": [
              "<Figure size 1000x700 with 1 Axes>"
            ]
          },
          "metadata": {},
          "output_type": "display_data"
        }
      ],
      "source": [
        "names_min = sorted([(j, i) for i, j in cv_df.vocabulary_.items() if j in min_idxs], key=lambda x: list(min_idxs).index(x[0]))\n",
        "plt.figure(figsize=(10,7))\n",
        "plt.grid()\n",
        "plt.bar(height=sorted(X_test_1.min(axis=0))[-10:], x=[i[1] for i in names_min])"
      ]
    },
    {
      "cell_type": "markdown",
      "metadata": {
        "id": "ThcEfzY1LHET"
      },
      "source": [
        "**Ответ:** минимальная значимость у самых частых оторванных от ээмоционабьного окраса слов. Максимальная соответствует словам с кокнретикой"
      ]
    },
    {
      "cell_type": "markdown",
      "metadata": {
        "id": "ktJVOdrIHq7B"
      },
      "source": [
        "## Задание 7 Другие признаки (1.5 балла)"
      ]
    },
    {
      "cell_type": "markdown",
      "metadata": {
        "id": "Yt3jRCZ2H0Og"
      },
      "source": [
        "Мы были сконцентрированы на работе с текстами твиттов и не использовали другие признаки - имена пользователя, дату и местоположение"
      ]
    },
    {
      "cell_type": "markdown",
      "metadata": {
        "id": "52wjewCCo_di"
      },
      "source": [
        "Изучите признаки UserName и ScreenName. полезны ли они? Если полезны, то закодируйте их, добавьте к матрице с отскалированными признаками, обучите логистическую регрессию, замерьте качество."
      ]
    },
    {
      "cell_type": "code",
      "execution_count": 210,
      "metadata": {},
      "outputs": [
        {
          "data": {
            "text/plain": [
              "True"
            ]
          },
          "execution_count": 210,
          "metadata": {},
          "output_type": "execute_result"
        }
      ],
      "source": [
        "train['UserName'].shape == train['UserName'].unique().shape"
      ]
    },
    {
      "cell_type": "code",
      "execution_count": 211,
      "metadata": {},
      "outputs": [
        {
          "data": {
            "text/plain": [
              "True"
            ]
          },
          "execution_count": 211,
          "metadata": {},
          "output_type": "execute_result"
        }
      ],
      "source": [
        "train['ScreenName'].shape == train['ScreenName'].unique().shape"
      ]
    },
    {
      "cell_type": "markdown",
      "metadata": {
        "id": "r8_qR-gnpT3a"
      },
      "source": [
        "**Ответ:** UserName и ScreenName у каждого твита уникальный, бесполезные признаки"
      ]
    },
    {
      "cell_type": "markdown",
      "metadata": {
        "id": "ythEcFSkt7y3"
      },
      "source": [
        "Изучите признак TweetAt в обучающей выборке: преобразуйте его к типу datetime и нарисуйте его гистограмму с разделением по цвету на оспнове целевой переменной. Полезен ли он? Если полезен, то закодируйте его, добавьте к матрице с отскалированными признаками, обучите логистическую регрессию, замерьте качество."
      ]
    },
    {
      "cell_type": "code",
      "execution_count": 212,
      "metadata": {
        "id": "Lxb_k0JLirNv"
      },
      "outputs": [],
      "source": [
        "import time\n",
        "import datetime\n",
        "\n",
        "convert_to_datetime = lambda x: time.mktime(datetime.datetime.strptime(x, \"%d-%m-%Y\").timetuple())\n",
        "train['TweetAt'] = train['TweetAt'].apply(convert_to_datetime)"
      ]
    },
    {
      "cell_type": "code",
      "execution_count": 213,
      "metadata": {},
      "outputs": [],
      "source": [
        "from seaborn import distplot"
      ]
    },
    {
      "cell_type": "code",
      "execution_count": 214,
      "metadata": {},
      "outputs": [
        {
          "data": {
            "text/plain": [
              "<Axes: xlabel='TweetAt', ylabel='Density'>"
            ]
          },
          "execution_count": 214,
          "metadata": {},
          "output_type": "execute_result"
        },
        {
          "data": {
            "image/png": "[encoded data removed]",
            "text/plain": [
              "<Figure size 640x480 with 1 Axes>"
            ]
          },
          "metadata": {},
          "output_type": "display_data"
        }
      ],
      "source": [
        "X_1 = train[train['Sentiment'] == 1]['TweetAt']\n",
        "X_0 = train[train['Sentiment'] == 0]['TweetAt']\n",
        "distplot(X_0, color='red')\n",
        "distplot(X_1, color='green')"
      ]
    },
    {
      "cell_type": "markdown",
      "metadata": {},
      "source": [
        "Не сказал бы, что сильно полезно. Но попробуем"
      ]
    },
    {
      "cell_type": "code",
      "execution_count": 215,
      "metadata": {},
      "outputs": [],
      "source": [
        "test['TweetAt'] = test['TweetAt'].apply(convert_to_datetime)"
      ]
    },
    {
      "cell_type": "code",
      "execution_count": 216,
      "metadata": {},
      "outputs": [
        {
          "name": "stdout",
          "output_type": "stream",
          "text": [
            "count vectorizer, 3819 tokens, datetime feature, train : 0.788\n",
            "count vectorizer, 3819 tokens, datetime feature, test : 0.663\n"
          ]
        }
      ],
      "source": [
        "X_train, y_train = train.iloc[:, -2], train.iloc[:, -1]\n",
        "X_test, y_test = test.iloc[:, -2], test.iloc[:, -1]\n",
        "\n",
        "X_train_1 = cv_df.transform(X_train)\n",
        "X_test_1 = cv_df.transform(X_test)\n",
        "\n",
        "X_train_1 = np.hstack([X_train_1.toarray(), train['TweetAt'].values.reshape(-1, 1)])\n",
        "X_test_1 = np.hstack([X_test_1.toarray(), test['TweetAt'].values.reshape(-1, 1)])\n",
        "\n",
        "scaler = StandardScaler()\n",
        "\n",
        "X_train_1 = scaler.fit_transform(X_train_1)\n",
        "X_test_1 = scaler.transform(X_test_1)\n",
        "\n",
        "lr = LogisticRegression()\n",
        "lr.fit(X_train_1, y_train)\n",
        "\n",
        "print(f\"count vectorizer, 3819 tokens, datetime feature, train : {accuracy_score(y_train, lr.predict(X_train_1)):.3f}\")\n",
        "print(f\"count vectorizer, 3819 tokens, datetime feature, test : {accuracy_score(y_test, lr.predict(X_test_1)):.3f}\")"
      ]
    },
    {
      "cell_type": "markdown",
      "metadata": {
        "id": "4IdLBdpQxM-G"
      },
      "source": [
        "**Ответ:** Ну да, нот юзфул"
      ]
    },
    {
      "cell_type": "markdown",
      "metadata": {
        "id": "r2JtRPhNP6qx"
      },
      "source": [
        "Поработайте с признаком Location в обучающей выборке. Сколько уникальных значений?"
      ]
    },
    {
      "cell_type": "code",
      "execution_count": 217,
      "metadata": {
        "id": "xYQZQ1FRNpoe"
      },
      "outputs": [
        {
          "data": {
            "text/plain": [
              "7949"
            ]
          },
          "execution_count": 217,
          "metadata": {},
          "output_type": "execute_result"
        }
      ],
      "source": [
        "location_stats = Counter(train['Location'].values)\n",
        "len(location_stats)"
      ]
    },
    {
      "cell_type": "markdown",
      "metadata": {
        "id": "6k4JwpRTQISa"
      },
      "source": [
        "Постройте гистограмму топ-10 по популярности местоположений (исключая Unknown)"
      ]
    },
    {
      "cell_type": "code",
      "execution_count": 218,
      "metadata": {
        "id": "J91YkhegJ0mz"
      },
      "outputs": [
        {
          "data": {
            "text/plain": [
              "<BarContainer object of 10 artists>"
            ]
          },
          "execution_count": 218,
          "metadata": {},
          "output_type": "execute_result"
        },
        {
          "data": {
            "image/png": "[encoded data removed]",
            "text/plain": [
              "<Figure size 1600x500 with 1 Axes>"
            ]
          },
          "metadata": {},
          "output_type": "display_data"
        }
      ],
      "source": [
        "popular_locations = sorted(location_stats.keys(), key=lambda x: location_stats[x])\n",
        "plt.figure(figsize=(16, 5))\n",
        "plt.grid()\n",
        "plt.bar(height=[location_stats[x] for x in popular_locations[-10:]], x=popular_locations[-10:])"
      ]
    },
    {
      "cell_type": "markdown",
      "metadata": {
        "id": "ZOsv3lODTfYB"
      },
      "source": [
        "Видно, что многие местоположения включают в себя более точное название места, чем другие (Например, у некоторых стоит London, UK; а у некоторых просто UK или United Kingdom).\n",
        "\n",
        "Создайте новый признак WiderLocation, который содержит самое широкое местоположение (например, из London, UK должно получиться UK). Сколько уникальных категорий теперь? Постройте аналогичную гистограмму."
      ]
    },
    {
      "cell_type": "code",
      "execution_count": 219,
      "metadata": {},
      "outputs": [],
      "source": [
        "US_codes = [\n",
        "\"AL\", \"KY\", \"OH\", \"AK\", \"LA\", \"OK\", \"AZ\", \"ME\", \"OR\", \"AR\", \"MD\", \"PA\", \"AS\", \"MA\", \"PR\", \"CA\", \"MI\", \"RI\", \"CO\", \n",
        "\"MN\", \"SC\", \"CT\", \"MS\", \"SD\", \"DE\", \"MO\", \"TN\", \"DC\", \"MT\", \"TX\", \"FL\", \"NE\", \"TT\", \"GA\", \"NV\", \"UT\", \"GU\", \"NH\", \n",
        "\"VT\", \"HI\", \"NJ\", \"VA\", \"ID\", \"NM\", \"VI\", \"IL\", \"NY\", \"WA\", \"IN\", \"NC\", \"WV\", \"IA\", \"ND\", \"WI\", \"KS\", \"MP\", \"WY\",\n",
        "]"
      ]
    },
    {
      "cell_type": "code",
      "execution_count": null,
      "metadata": {},
      "outputs": [],
      "source": [
        "# for state in US_codes:\n",
        "#     if state in train['WiderLocation'].values:\n",
        "#         dff = train[train['WiderLocation'] == state]\n",
        "#         print(f\"{state}: {dff.shape[0]}  {dff['Sentiment'].mean():.3f}\")"
      ]
    },
    {
      "cell_type": "code",
      "execution_count": 222,
      "metadata": {
        "id": "mSkow6acOMyD"
      },
      "outputs": [
        {
          "data": {
            "text/plain": [
              "4869"
            ]
          },
          "execution_count": 222,
          "metadata": {},
          "output_type": "execute_result"
        }
      ],
      "source": [
        "train['WiderLocation'] = train['Location'].apply(lambda x: x.split(\", \")[-1] if not x.split(\", \")[-1] in US_codes else 'USA')\n",
        "location_stats = Counter(train['WiderLocation'].values)\n",
        "len(location_stats)"
      ]
    },
    {
      "cell_type": "code",
      "execution_count": 223,
      "metadata": {},
      "outputs": [
        {
          "data": {
            "text/plain": [
              "<BarContainer object of 10 artists>"
            ]
          },
          "execution_count": 223,
          "metadata": {},
          "output_type": "execute_result"
        },
        {
          "data": {
            "image/png": "[encoded data removed]",
            "text/plain": [
              "<Figure size 1600x500 with 1 Axes>"
            ]
          },
          "metadata": {},
          "output_type": "display_data"
        }
      ],
      "source": [
        "popular_locations = sorted(location_stats.keys(), key=lambda x: location_stats[x])\n",
        "plt.figure(figsize=(16, 5))\n",
        "plt.grid()\n",
        "plt.bar(height=[location_stats[x] for x in popular_locations[-10:]], x=popular_locations[-10:])"
      ]
    },
    {
      "cell_type": "markdown",
      "metadata": {
        "id": "cgyWrD2eVfff"
      },
      "source": [
        "Закодируйте признак WiderLocation с помощью OHE таким образом, чтобы создались только столбцы для местоположений, которые встречаются более одного раза. Сколько таких значений?\n"
      ]
    },
    {
      "cell_type": "code",
      "execution_count": 227,
      "metadata": {
        "id": "SeJBfBWgPvg_"
      },
      "outputs": [],
      "source": [
        "good_locations = [i for i in location_stats.keys() if location_stats[i] > 1]\n",
        "location_OHE = pd.get_dummies(train['WiderLocation'])[good_locations].astype(int)\n",
        "for col in location_OHE.columns:\n",
        "    test[col] = (test['Location'].apply(lambda x: x.split(\", \")[-1] if not x.split(\", \")[-1] in US_codes else 'USA') == col).astype(int)"
      ]
    },
    {
      "cell_type": "markdown",
      "metadata": {
        "id": "ZyMX5kZuimPK"
      },
      "source": [
        "Добавьте этот признак к матрице отскалированных текстовых признаков, обучите логистическую регрессию, замерьте качество. Как оно изменилось? Оказался ли признак полезным?\n",
        "\n",
        "\n",
        "*Подсказка:* используйте параметр `categories` в энкодере."
      ]
    },
    {
      "cell_type": "code",
      "execution_count": 230,
      "metadata": {
        "id": "EO1jNPeeim7A"
      },
      "outputs": [
        {
          "name": "stdout",
          "output_type": "stream",
          "text": [
            "count vectorizer, 3819 tokens, location feature, train : 0.794\n",
            "count vectorizer, 3819 tokens, location feature, test : 0.662\n"
          ]
        }
      ],
      "source": [
        "X_train, y_train = train.loc[:, 'OriginalTweet'], train.loc[:, 'Sentiment']\n",
        "X_test, y_test = test.loc[:, 'OriginalTweet'], test.loc[:, 'Sentiment']\n",
        "\n",
        "X_train_1 = cv_df.transform(X_train)\n",
        "X_test_1 = cv_df.transform(X_test)\n",
        "\n",
        "scaler = StandardScaler()\n",
        "\n",
        "X_train_1 = scaler.fit_transform(X_train_1.toarray())\n",
        "X_test_1 = scaler.transform(X_test_1.toarray())\n",
        "\n",
        "X_train_1 = np.hstack([X_train_1, location_OHE.values])\n",
        "X_test_1 = np.hstack([X_test_1, test[location_OHE.columns].values])\n",
        "\n",
        "lr = LogisticRegression()\n",
        "lr.fit(X_train_1, y_train)\n",
        "\n",
        "print(f\"count vectorizer, 3819 tokens, location feature, train : {accuracy_score(y_train, lr.predict(X_train_1)):.3f}\")\n",
        "print(f\"count vectorizer, 3819 tokens, location feature, test : {accuracy_score(y_test, lr.predict(X_test_1)):.3f}\")"
      ]
    },
    {
      "cell_type": "markdown",
      "metadata": {
        "id": "7dHsGlDRYUQt"
      },
      "source": [
        "**Ответ:** Нет, признак оказался неполезным. Но попробуем ща по штатам ещё разбить"
      ]
    },
    {
      "cell_type": "code",
      "execution_count": 231,
      "metadata": {},
      "outputs": [
        {
          "data": {
            "text/plain": [
              "4921"
            ]
          },
          "execution_count": 231,
          "metadata": {},
          "output_type": "execute_result"
        }
      ],
      "source": [
        "train['WiderLocation'] = train['Location'].apply(lambda x: x.split(\", \")[-1])\n",
        "location_stats = Counter(train['WiderLocation'].values)\n",
        "len(location_stats)"
      ]
    },
    {
      "cell_type": "code",
      "execution_count": 232,
      "metadata": {},
      "outputs": [
        {
          "data": {
            "text/plain": [
              "<BarContainer object of 10 artists>"
            ]
          },
          "execution_count": 232,
          "metadata": {},
          "output_type": "execute_result"
        },
        {
          "data": {
            "image/png": "[encoded data removed]",
            "text/plain": [
              "<Figure size 1600x500 with 1 Axes>"
            ]
          },
          "metadata": {},
          "output_type": "display_data"
        }
      ],
      "source": [
        "popular_locations = sorted(location_stats.keys(), key=lambda x: location_stats[x])\n",
        "plt.figure(figsize=(16, 5))\n",
        "plt.grid()\n",
        "plt.bar(height=[location_stats[x] for x in popular_locations[-10:]], x=popular_locations[-10:])"
      ]
    },
    {
      "cell_type": "code",
      "execution_count": 233,
      "metadata": {},
      "outputs": [],
      "source": [
        "good_locations = [i for i in location_stats.keys() if location_stats[i] > 1]\n",
        "location_OHE = pd.get_dummies(train['WiderLocation'])[good_locations].astype(int)\n",
        "for col in location_OHE.columns:\n",
        "    test[col] = (test['Location'].apply(lambda x: x.split(\", \")[-1]) == col).astype(int)"
      ]
    },
    {
      "cell_type": "code",
      "execution_count": 234,
      "metadata": {},
      "outputs": [
        {
          "name": "stdout",
          "output_type": "stream",
          "text": [
            "count vectorizer, 3819 tokens, location feature, train : 0.795\n",
            "count vectorizer, 3819 tokens, location feature, test : 0.660\n"
          ]
        }
      ],
      "source": [
        "X_train, y_train = train.loc[:, 'OriginalTweet'], train.loc[:, 'Sentiment']\n",
        "X_test, y_test = test.loc[:, 'OriginalTweet'], test.loc[:, 'Sentiment']\n",
        "\n",
        "X_train_1 = cv_df.transform(X_train)\n",
        "X_test_1 = cv_df.transform(X_test)\n",
        "\n",
        "scaler = StandardScaler()\n",
        "\n",
        "X_train_1 = scaler.fit_transform(X_train_1.toarray())\n",
        "X_test_1 = scaler.transform(X_test_1.toarray())\n",
        "\n",
        "X_train_1 = np.hstack([X_train_1, location_OHE.values])\n",
        "X_test_1 = np.hstack([X_test_1, test[location_OHE.columns].values])\n",
        "\n",
        "lr = LogisticRegression()\n",
        "lr.fit(X_train_1, y_train)\n",
        "\n",
        "print(f\"count vectorizer, 3819 tokens, location feature, train : {accuracy_score(y_train, lr.predict(X_train_1)):.3f}\")\n",
        "print(f\"count vectorizer, 3819 tokens, location feature, test : {accuracy_score(y_test, lr.predict(X_test_1)):.3f}\")"
      ]
    },
    {
      "cell_type": "markdown",
      "metadata": {},
      "source": [
        "Лучше не стало"
      ]
    },
    {
      "cell_type": "markdown",
      "metadata": {
        "id": "IWn6h4W9eD3S"
      },
      "source": [
        "## Задание 8 Хорошее качество (Бонус 1 балл)"
      ]
    },
    {
      "cell_type": "markdown",
      "metadata": {
        "id": "-HDI0SU6eLgi"
      },
      "source": [
        "Добейтесь accuracy=0.9 на тестовой выборке (можно сменить токенайзер, векторайзер, модель и т.д.)"
      ]
    },
    {
      "cell_type": "code",
      "execution_count": null,
      "metadata": {
        "id": "k3WMbE8edhlW"
      },
      "outputs": [],
      "source": [
        "# -- YOUR CODE HERE --"
      ]
    }
  ],
  "metadata": {
    "colab": {
      "provenance": [],
      "toc_visible": true
    },
    "kernelspec": {
      "display_name": "Python 3",
      "name": "python3"
    },
    "language_info": {
      "codemirror_mode": {
        "name": "ipython",
        "version": 3
      },
      "file_extension": ".py",
      "mimetype": "text/x-python",
      "name": "python",
      "nbconvert_exporter": "python",
      "pygments_lexer": "ipython3",
      "version": "3.11.9"
    }
  },
  "nbformat": 4,
  "nbformat_minor": 0
}
