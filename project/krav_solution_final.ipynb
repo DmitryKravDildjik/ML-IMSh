{
 "cells": [
  {
   "cell_type": "code",
   "execution_count": 1,
   "metadata": {},
   "outputs": [
    {
     "name": "stderr",
     "output_type": "stream",
     "text": [
      "[nltk_data] Downloading package stopwords to\n",
      "[nltk_data]     C:\\Users\\Arekusei\\AppData\\Roaming\\nltk_data...\n",
      "[nltk_data]   Package stopwords is already up-to-date!\n"
     ]
    }
   ],
   "source": [
    "from bs4 import BeautifulSoup\n",
    "from glob import glob\n",
    "from tqdm import tqdm \n",
    "import codecs\n",
    "import pandas as pd\n",
    "from nltk.stem.snowball import SnowballStemmer\n",
    "from sklearn.feature_extraction.text import TfidfVectorizer, CountVectorizer\n",
    "from sklearn.metrics.pairwise import cosine_similarity, euclidean_distances, chi2_kernel\n",
    "from sklearn.metrics import f1_score, recall_score, precision_score, accuracy_score\n",
    "from string import punctuation\n",
    "from sklearn.manifold import TSNE\n",
    "import matplotlib.pyplot as plt \n",
    "import seaborn as sns \n",
    "import pandas as pd \n",
    "\n",
    "import nltk\n",
    "from nltk.tokenize import TweetTokenizer\n",
    "nltk.download('stopwords')\n",
    "from nltk.corpus import stopwords\n",
    "import os\n",
    "import natsort\n",
    "import numpy as np\n",
    "\n",
    "stop_words = set(stopwords.words(\"russian\"))\n"
   ]
  },
  {
   "cell_type": "code",
   "execution_count": 2,
   "metadata": {},
   "outputs": [],
   "source": [
    "def dat_to_text(dat_path):\n",
    "    with codecs.open(dat_path, 'r', 'utf-8') as f:\n",
    "        url = f.readline().strip()\n",
    "        soup = BeautifulSoup(f, 'lxml')\n",
    "        title = soup.title.text\n",
    "        \n",
    "        # kill all script and style elements\n",
    "        for script in soup([\"script\", \"style\"]):\n",
    "            script.extract()    # rip it out\n",
    "\n",
    "        # get text\n",
    "        text = soup.get_text()\n",
    "\n",
    "        # break into lines and remove leading and trailing space on each\n",
    "        lines = (line.strip() for line in text.splitlines())\n",
    "        # break multi-headlines into a line each\n",
    "        chunks = (phrase.strip() for line in lines for phrase in line.split(\"  \"))\n",
    "        # drop blank lines\n",
    "        text = ' '.join(chunk for chunk in chunks if chunk)\n",
    "    return text.split()"
   ]
  },
  {
   "cell_type": "code",
   "execution_count": 3,
   "metadata": {},
   "outputs": [],
   "source": [
    "def custom_tokenizer(text):\n",
    "\n",
    "    trash = []\n",
    "    for word in text:\n",
    "        try:\n",
    "            numb = ord(word)\n",
    "            if numb >= 128:\n",
    "                trash.append(word)\n",
    "        except TypeError:\n",
    "            continue\n",
    "        \n",
    "    trash = set(trash + list(stop_words))  \n",
    "    tokenizer = TweetTokenizer()\n",
    "    filtered_text = \"\".join([i for i in text if not i in punctuation]).lower().replace(\"\\n\", ' ').replace(\"\\t\", ' ').replace(\"\\r\", ' ')\n",
    "    \n",
    "    tokens = tokenizer.tokenize(filtered_text)\n",
    "    tokens = [i for i in tokens if not i in trash and not i.startswith(\"https\")]\n",
    "    \n",
    "    return tokens\n"
   ]
  },
  {
   "cell_type": "code",
   "execution_count": 4,
   "metadata": {},
   "outputs": [],
   "source": [
    "stemmer = SnowballStemmer('russian')\n",
    "\n",
    "def custom_stem_tokenizer(text):\n",
    "\n",
    "  tokens = custom_tokenizer(text)\n",
    "  stemmed_tokens = [stemmer.stem(w) for w in tokens]\n",
    "\n",
    "  return stemmed_tokens"
   ]
  },
  {
   "cell_type": "code",
   "execution_count": 7,
   "metadata": {},
   "outputs": [],
   "source": [
    "from navec import Navec\n",
    "path = 'navec_hudlit_v1_12B_500K_300d_100q.tar'\n",
    "navec = Navec.load(path)"
   ]
  },
  {
   "cell_type": "code",
   "execution_count": null,
   "metadata": {},
   "outputs": [],
   "source": [
    "!python -m spacy download ru_core_news_sm"
   ]
  },
  {
   "cell_type": "code",
   "execution_count": 3,
   "metadata": {},
   "outputs": [],
   "source": [
    "import spacy\n",
    "nlp = spacy.load(\"ru_core_news_sm\")"
   ]
  },
  {
   "cell_type": "code",
   "execution_count": 11,
   "metadata": {},
   "outputs": [],
   "source": [
    "vocabulary = navec.vocab.words"
   ]
  },
  {
   "cell_type": "code",
   "execution_count": 198,
   "metadata": {},
   "outputs": [],
   "source": [
    "def proc(text):\n",
    "    text = ' '.join(text)\n",
    "    text = text.replace('\\n', ' ')\n",
    "    text = ''.join([i for i in text if not i in punctuation + '1234567890'])\n",
    "    res = []\n",
    "    for i in range(len(text) // 50000 + 1):\n",
    "        res += [i.lemma_.lower() for i in nlp(text[i * 50000: (i + 1) * 50000]) if not i.lemma_.lower() in stop_words and len(i.lemma_.lower()) > 1]\n",
    "    return res"
   ]
  },
  {
   "cell_type": "code",
   "execution_count": 205,
   "metadata": {},
   "outputs": [
    {
     "name": "stderr",
     "output_type": "stream",
     "text": [
      "  0%|          | 15/28026 [00:16<6:05:35,  1.28it/s] C:\\Users\\Alexey\\AppData\\Local\\Packages\\PythonSoftwareFoundation.Python.3.11_qbz5n2kfra8p0\\LocalCache\\local-packages\\Python311\\site-packages\\bs4\\builder\\__init__.py:545: XMLParsedAsHTMLWarning: It looks like you're parsing an XML document using an HTML parser. If this really is an HTML document (maybe it's XHTML?), you can ignore or filter this warning. If it's XML, you should know that using an XML parser will be more reliable. To parse this document as XML, make sure you have the lxml package installed, and pass the keyword argument `features=\"xml\"` into the BeautifulSoup constructor.\n",
      "  warnings.warn(\n",
      "100%|██████████| 28026/28026 [7:37:30<00:00,  1.02it/s]   \n"
     ]
    }
   ],
   "source": [
    "pbar = tqdm(natsort.natsorted(all_paths))\n",
    "for file_path in pbar:\n",
    "    \n",
    "    basename = os.path.basename(file_path)\n",
    "    \n",
    "    # if os.path.exists(f\"./texts/{basename}\"):\n",
    "    #     continue\n",
    "    \n",
    "    text = dat_to_text(file_path)\n",
    "    \n",
    "    if len(text) > 5000:\n",
    "        factor = len(text) // 5000\n",
    "        text = text[::factor][:5000]\n",
    "        \n",
    "    text = proc(text)\n",
    "    \n",
    "    embs = None\n",
    "    filtered_text = []\n",
    "    for x in text:\n",
    "        try:\n",
    "            embs = navec[x] if embs is None else np.vstack([embs, navec[x]])\n",
    "            filtered_text.append(x)\n",
    "        except KeyError:\n",
    "            pass\n",
    "    \n",
    "    with codecs.open(f\"./texts/{basename}\", 'w', 'utf-8') as f:\n",
    "        f.write(' '.join(filtered_text))\n",
    "        \n",
    "    np.save(f\"./texts/{basename}\".replace(\"dat\", \"npy\"), embs)\n",
    "    "
   ]
  },
  {
   "cell_type": "markdown",
   "metadata": {},
   "source": [
    "### tfidf"
   ]
  },
  {
   "cell_type": "code",
   "execution_count": 431,
   "metadata": {},
   "outputs": [
    {
     "name": "stderr",
     "output_type": "stream",
     "text": [
      "100%|██████████| 94/94 [00:00<00:00, 9887.51it/s]\n"
     ]
    }
   ],
   "source": [
    "all_texts = []\n",
    "# all_paths = natsort.natsorted(glob(\"texts/*dat\"))\n",
    "doc_ids = np.loadtxt(\"train_groups.csv\", delimiter=',', skiprows=1, usecols=[2]).astype(int)\n",
    "group_ids = np.loadtxt(\"train_groups.csv\", delimiter=',', skiprows=1, usecols=[1]).astype(int)\n",
    "GROUP = 2\n",
    "ids = np.where(group_ids == GROUP)[0]\n",
    "y = np.loadtxt(\"train_groups.csv\", delimiter=',', skiprows=1, usecols=[3])[ids].astype(int)\n",
    "# if sum(y) > len(y) / 2: y = 1 - y \n",
    "titles = pd.read_csv(\"docs_titles.tsv\", delimiter='\\t', index_col=0).loc[doc_ids[ids]]\n",
    "titles['y'] = y \n",
    "\n",
    "for file_path in tqdm(doc_ids[ids]):\n",
    "    file_path = f\"texts/{file_path}.dat\"\n",
    "    with open(file_path, 'r', encoding='utf-8') as f:\n",
    "        text = f.readline()\n",
    "        all_texts.append(text)"
   ]
  },
  {
   "cell_type": "code",
   "execution_count": 433,
   "metadata": {},
   "outputs": [
    {
     "name": "stdout",
     "output_type": "stream",
     "text": [
      "13210\n"
     ]
    }
   ],
   "source": [
    "from sklearn.model_selection import train_test_split\n",
    "\n",
    "X_train, X_test, y_train, y_test = train_test_split(all_texts, y, test_size=0.15, random_state=42, stratify=y)\n",
    "\n",
    "tfidfv = TfidfVectorizer()\n",
    "tfidfv.fit(custom_stem_tokenizer(\" \".join(X_train)))\n",
    "print(len(tfidfv.vocabulary_))\n",
    "\n",
    "X_train = tfidfv.transform(X_train)\n",
    "X_test = tfidfv.transform(X_test)\n",
    "\n",
    "X = tfidfv.transform(all_texts)"
   ]
  },
  {
   "cell_type": "code",
   "execution_count": 316,
   "metadata": {},
   "outputs": [
    {
     "name": "stdout",
     "output_type": "stream",
     "text": [
      "8129\n"
     ]
    }
   ],
   "source": [
    "cv = CountVectorizer()\n",
    "cv.fit(custom_stem_tokenizer(\" \".join(X_train)))\n",
    "print(len(cv.vocabulary_))\n",
    "\n",
    "X_train = cv.transform(X_train)\n",
    "X_test = cv.transform(X_test)\n",
    "\n",
    "X = cv.transform(all_texts)"
   ]
  },
  {
   "cell_type": "code",
   "execution_count": 313,
   "metadata": {},
   "outputs": [
    {
     "data": {
      "text/plain": [
       "<Axes: xlabel='one', ylabel='two'>"
      ]
     },
     "execution_count": 313,
     "metadata": {},
     "output_type": "execute_result"
    },
    {
     "data": {
      "image/png": "[encoded data removed]",
      "text/plain": [
       "<Figure size 800x500 with 1 Axes>"
      ]
     },
     "metadata": {},
     "output_type": "display_data"
    }
   ],
   "source": [
    "X_embedded = TSNE(n_components=2, learning_rate='auto',\n",
    "                  init='random', perplexity=5).fit_transform(X)\n",
    "df = pd.DataFrame(X_embedded, columns=['one', 'two'])\n",
    "df['y'] = y\n",
    "plt.figure(figsize=(8,5))\n",
    "sns.scatterplot(\n",
    "    x=\"one\", y=\"two\",\n",
    "    hue=\"y\",\n",
    "    palette=sns.color_palette(\"hls\", 2),\n",
    "    data=df,\n",
    "    legend=\"full\",\n",
    "    alpha=1\n",
    ")"
   ]
  },
  {
   "cell_type": "code",
   "execution_count": 435,
   "metadata": {},
   "outputs": [
    {
     "name": "stderr",
     "output_type": "stream",
     "text": [
      "2 / 25:   0%|          | 0/24 [00:00<?, ?it/s]"
     ]
    },
    {
     "name": "stdout",
     "output_type": "stream",
     "text": [
      "new record 0.259, (1, 1, 1)\n"
     ]
    },
    {
     "name": "stderr",
     "output_type": "stream",
     "text": [
      "2 / 25:  42%|████▏     | 10/24 [00:36<00:51,  3.66s/it] "
     ]
    },
    {
     "name": "stdout",
     "output_type": "stream",
     "text": [
      "new record 0.262, (11, 1, 1)\n",
      "new record 0.267, (11, 2, 1)\n"
     ]
    },
    {
     "name": "stderr",
     "output_type": "stream",
     "text": [
      "8 / 25:  42%|████▏     | 10/24 [00:37<00:51,  3.66s/it]"
     ]
    },
    {
     "name": "stdout",
     "output_type": "stream",
     "text": [
      "new record 0.277, (11, 7, 1)\n",
      "new record 0.283, (11, 8, 1)\n"
     ]
    },
    {
     "name": "stderr",
     "output_type": "stream",
     "text": [
      "10 / 25:  42%|████▏     | 10/24 [00:38<00:51,  3.66s/it]"
     ]
    },
    {
     "name": "stdout",
     "output_type": "stream",
     "text": [
      "new record 0.289, (11, 9, 1)\n"
     ]
    },
    {
     "name": "stderr",
     "output_type": "stream",
     "text": [
      "12 / 25:  42%|████▏     | 10/24 [00:38<00:51,  3.66s/it]"
     ]
    },
    {
     "name": "stdout",
     "output_type": "stream",
     "text": [
      "new record 0.295, (11, 11, 1)\n",
      "new record 0.299, (11, 12, 1)\n"
     ]
    },
    {
     "name": "stderr",
     "output_type": "stream",
     "text": [
      "15 / 25:  42%|████▏     | 10/24 [00:38<00:51,  3.66s/it]"
     ]
    },
    {
     "name": "stdout",
     "output_type": "stream",
     "text": [
      "new record 0.306, (11, 14, 1)\n",
      "new record 0.313, (11, 15, 1)\n"
     ]
    },
    {
     "name": "stderr",
     "output_type": "stream",
     "text": [
      "17 / 25:  42%|████▏     | 10/24 [00:39<00:51,  3.66s/it]"
     ]
    },
    {
     "name": "stdout",
     "output_type": "stream",
     "text": [
      "new record 0.325, (11, 16, 1)\n"
     ]
    },
    {
     "name": "stderr",
     "output_type": "stream",
     "text": [
      "19 / 25:  42%|████▏     | 10/24 [00:39<00:51,  3.66s/it]"
     ]
    },
    {
     "name": "stdout",
     "output_type": "stream",
     "text": [
      "new record 0.338, (11, 18, 1)\n",
      "new record 0.347, (11, 19, 1)\n"
     ]
    },
    {
     "name": "stderr",
     "output_type": "stream",
     "text": [
      "22 / 25:  42%|████▏     | 10/24 [00:40<00:51,  3.66s/it]"
     ]
    },
    {
     "name": "stdout",
     "output_type": "stream",
     "text": [
      "new record 0.351, (11, 21, 1)\n"
     ]
    },
    {
     "name": "stderr",
     "output_type": "stream",
     "text": [
      "23 / 25:  50%|█████     | 12/24 [00:47<00:43,  3.65s/it]"
     ]
    },
    {
     "name": "stdout",
     "output_type": "stream",
     "text": [
      "new record 0.356, (13, 22, 1)\n"
     ]
    },
    {
     "name": "stderr",
     "output_type": "stream",
     "text": [
      "23 / 25:  71%|███████   | 17/24 [01:05<00:25,  3.66s/it]"
     ]
    },
    {
     "name": "stdout",
     "output_type": "stream",
     "text": [
      "new record 0.361, (18, 22, 1)\n"
     ]
    },
    {
     "name": "stderr",
     "output_type": "stream",
     "text": [
      "24 / 25: 100%|██████████| 24/24 [01:27<00:00,  3.66s/it]\n"
     ]
    }
   ],
   "source": [
    "max_score = 0\n",
    "best = None\n",
    "pbar = tqdm(range(1, 25))\n",
    "for n_popular in pbar:\n",
    "    for n_top in range(1, 25):\n",
    "        pbar.set_description(f\"{n_top} / 25\")\n",
    "        for n_thresh in range(1, 10):\n",
    "            popular = set(list(np.argsort(df_)[-n_popular:]))\n",
    "            feature = [int(len(set(row).intersection(popular)) < n_thresh) for row in np.argsort(X.toarray(), axis=1)[:, -n_top:]]\n",
    "            score = f1_score(y_pred=feature, y_true=y)\n",
    "            if score > max_score:\n",
    "                max_score = score\n",
    "                best = (n_popular, n_top, n_thresh)\n",
    "                print(f\"new record {max_score:.3f}, {best}\")\n",
    "            # accuracy_score(y_pred=feature, y_true=y) "
   ]
  },
  {
   "cell_type": "code",
   "execution_count": 102,
   "metadata": {},
   "outputs": [
    {
     "name": "stderr",
     "output_type": "stream",
     "text": [
      "100%|██████████| 94/94 [00:00<00:00, 592.21it/s]\n"
     ]
    }
   ],
   "source": [
    "all_texts = []\n",
    "# all_paths = natsort.natsorted(glob(\"texts/*dat\"))\n",
    "doc_ids = np.loadtxt(\"train_groups.csv\", delimiter=',', skiprows=1, usecols=[2]).astype(int)\n",
    "group_ids = np.loadtxt(\"train_groups.csv\", delimiter=',', skiprows=1, usecols=[1]).astype(int)\n",
    "GROUP = 47\n",
    "ids = np.where(group_ids == GROUP)[0]\n",
    "y = np.loadtxt(\"train_groups.csv\", delimiter=',', skiprows=1, usecols=[3])[ids].astype(int)\n",
    "\n",
    "for file_path in tqdm(doc_ids[ids]):\n",
    "    file_path = f\"texts/{file_path}.dat\"a\n",
    "    with open(file_path, 'r', encoding='utf-8') as f:\n",
    "        text = f.readline()\n",
    "        all_texts.append(text)\n",
    "\n",
    "tfidfv = TfidfVectorizer()\n",
    "tfidfv.fit(custom_stem_tokenizer(\" \".join(all_texts)))\n",
    "X = tfidfv.transform(all_texts)\n",
    "df_ = 1 / (tfidfv.idf_ + 0.1)"
   ]
  },
  {
   "cell_type": "code",
   "execution_count": 548,
   "metadata": {},
   "outputs": [
    {
     "name": "stderr",
     "output_type": "stream",
     "text": [
      "100%|██████████| 180/180 [13:57<00:00,  4.65s/it]\n"
     ]
    }
   ],
   "source": [
    "all_preds = []\n",
    "all_confs = []\n",
    "best_thresh = 0.5\n",
    "for GROUP in tqdm(range(130, 310)):\n",
    "    all_texts = []\n",
    "    # all_paths = natsort.natsorted(glob(\"texts/*dat\"))\n",
    "    doc_ids = np.loadtxt(\"test_groups.csv\", delimiter=',', skiprows=1, usecols=[2]).astype(int)\n",
    "    group_ids = np.loadtxt(\"test_groups.csv\", delimiter=',', skiprows=1, usecols=[1]).astype(int)\n",
    "    ids = np.where(group_ids == GROUP)[0]\n",
    "    # y = np.loadtxt(\"test_groups.csv\", delimiter=',', skiprows=1, usecols=[3])[ids].astype(int)\n",
    "\n",
    "    for file_path in doc_ids[ids]:\n",
    "        file_path = f\"texts/{file_path}.dat\"\n",
    "        with open(file_path, 'r', encoding='utf-8') as f:\n",
    "            text = f.readline()\n",
    "            all_texts.append(text)  \n",
    "    \n",
    "    mean_vector = np.asarray(X.mean(0))\n",
    "    similarities = [cosine_similarity(X.getrow(i), mean_vector).item() for i in range(X.shape[0])]\n",
    "    all_confs = all_confs + similarities\n",
    "    \n",
    "    # best_thresh = find_threshold(np.array(similarities), y)\n",
    "    feature = [int(i > best_thresh) for i in similarities]\n",
    "    # score = f1_score(y_pred=feature, y_true=y)\n",
    "    all_preds = all_preds + feature\n",
    "    # print(f\"{GROUP}: {score:.3f}\")"
   ]
  },
  {
   "cell_type": "code",
   "execution_count": 7,
   "metadata": {},
   "outputs": [],
   "source": [
    "pairs = np.loadtxt(\"test_groups.csv\", delimiter=',', skiprows=1, usecols=[0]).astype(int)"
   ]
  },
  {
   "cell_type": "code",
   "execution_count": 550,
   "metadata": {},
   "outputs": [],
   "source": [
    "data = pd.DataFrame(np.vstack([pairs, all_preds]).T, columns=['pair_id', 'target'])\n",
    "data.to_csv('submission_cosine_3.csv', index=False)"
   ]
  },
  {
   "attachments": {},
   "cell_type": "markdown",
   "metadata": {},
   "source": [
    "## pairwise metrics"
   ]
  },
  {
   "cell_type": "code",
   "execution_count": 8,
   "metadata": {},
   "outputs": [],
   "source": [
    "from sklearn.metrics.pairwise import cosine_similarity, euclidean_distances, chi2_kernel"
   ]
  },
  {
   "cell_type": "code",
   "execution_count": 171,
   "metadata": {},
   "outputs": [
    {
     "name": "stderr",
     "output_type": "stream",
     "text": [
      "100%|██████████| 94/94 [00:00<00:00, 9999.10it/s]\n"
     ]
    }
   ],
   "source": [
    "all_texts = []\n",
    "# all_paths = natsort.natsorted(glob(\"texts/*dat\"))\n",
    "doc_ids = np.loadtxt(\"train_groups.csv\", delimiter=',', skiprows=1, usecols=[2]).astype(int)\n",
    "group_ids = np.loadtxt(\"train_groups.csv\", delimiter=',', skiprows=1, usecols=[1]).astype(int)\n",
    "GROUP = 118\n",
    "ids = np.where(group_ids == GROUP)[0]\n",
    "y = np.loadtxt(\"train_groups.csv\", delimiter=',', skiprows=1, usecols=[3])[ids].astype(int)\n",
    "\n",
    "for file_path in tqdm(doc_ids[ids]):\n",
    "    file_path = f\"texts/{file_path}.dat\"\n",
    "    with open(file_path, 'r', encoding='utf-8') as f:\n",
    "        text = f.readline()\n",
    "        all_texts.append(text)\n",
    "\n",
    "tfidfv = TfidfVectorizer()\n",
    "tfidfv.fit(custom_stem_tokenizer(\" \".join(all_texts)))\n",
    "X = tfidfv.transform(all_texts)\n",
    "df_ = 1 / (tfidfv.idf_ + 0.1)"
   ]
  },
  {
   "cell_type": "code",
   "execution_count": 172,
   "metadata": {},
   "outputs": [],
   "source": [
    "cc = cosine_similarity(X.toarray())\n",
    "cc *= (1 - np.eye(X.shape[0]))"
   ]
  },
  {
   "cell_type": "code",
   "execution_count": 179,
   "metadata": {},
   "outputs": [],
   "source": [
    "cc = euclidean_distances(X.toarray())\n",
    "cc += np.eye(X.shape[0]) * 10"
   ]
  },
  {
   "cell_type": "code",
   "execution_count": 180,
   "metadata": {},
   "outputs": [],
   "source": [
    "idx = np.where(y)[0]\n",
    "idx2 = np.where(1 -y)[0]"
   ]
  },
  {
   "cell_type": "code",
   "execution_count": 182,
   "metadata": {},
   "outputs": [
    {
     "data": {
      "text/plain": [
       "<Axes: ylabel='Density'>"
      ]
     },
     "execution_count": 182,
     "metadata": {},
     "output_type": "execute_result"
    },
    {
     "data": {
      "image/png": "[encoded data removed]",
      "text/plain": [
       "<Figure size 640x480 with 1 Axes>"
      ]
     },
     "metadata": {},
     "output_type": "display_data"
    }
   ],
   "source": [
    "import warnings\n",
    "warnings.filterwarnings('ignore')\n",
    "\n",
    "hist1 = cc.min(1)[idx]\n",
    "hist2 = cc.min(1)[idx2]\n",
    "h1 = sns.distplot(hist1, color='green', bins=10)\n",
    "sns.distplot(hist2, color='red', bins=10)\n"
   ]
  },
  {
   "cell_type": "code",
   "execution_count": 165,
   "metadata": {},
   "outputs": [
    {
     "data": {
      "text/plain": [
       "<Axes: ylabel='Density'>"
      ]
     },
     "execution_count": 165,
     "metadata": {},
     "output_type": "execute_result"
    },
    {
     "data": {
      "image/png": "[encoded data removed]",
      "text/plain": [
       "<Figure size 640x480 with 1 Axes>"
      ]
     },
     "metadata": {},
     "output_type": "display_data"
    }
   ],
   "source": [
    "hist1 = cc.mean(1)[idx]\n",
    "hist2 = cc.mean(1)[idx2]\n",
    "sns.distplot(hist1, color='green', bins=10)\n",
    "sns.distplot(hist2, color='red', bins=10)"
   ]
  },
  {
   "cell_type": "code",
   "execution_count": 136,
   "metadata": {},
   "outputs": [
    {
     "name": "stderr",
     "output_type": "stream",
     "text": [
      "100%|██████████| 180/180 [32:07<00:00, 10.71s/it]\n"
     ]
    }
   ],
   "source": [
    "all_features_1 = []\n",
    "all_cosines = [] \n",
    "all_max_cosines = []\n",
    "all_mean_cosines = []\n",
    "all_max_chi2 = []\n",
    "all_mean_chi2 = []\n",
    "all_eucl = []\n",
    "# titles = pd.read_csv(\"docs_titles.tsv\", delimiter='\\t', index_col=0)\n",
    "titles = pd.DataFrame(np.loadtxt(\"docs_titles.tsv\", delimiter='\\t', dtype=str, encoding='utf-8')[1:], columns=[\"doc_id\", \"title\"], dtype=str).set_index(\"doc_id\")\n",
    "\n",
    "for GROUP in tqdm(range(130, 310)):\n",
    "    all_texts = []\n",
    "    # all_paths = natsort.natsorted(glob(\"texts/*dat\"))\n",
    "    doc_ids = np.loadtxt(\"test_groups.csv\", delimiter=',', skiprows=1, usecols=[2]).astype(int)\n",
    "    group_ids = np.loadtxt(\"test_groups.csv\", delimiter=',', skiprows=1, usecols=[1]).astype(int)\n",
    "    ids = np.where(group_ids == GROUP)[0]\n",
    "\n",
    "    for file_path in doc_ids[ids]:\n",
    "        title = titles.loc[f\"{file_path}\"].values[0]\n",
    "        file_path = f\"texts/{file_path}.dat\"\n",
    "        with open(file_path, 'r', encoding='utf-8') as f:\n",
    "            text = str(f.readline()) + str(title)\n",
    "            all_texts.append(text)\n",
    "\n",
    "    tfidfv = TfidfVectorizer()\n",
    "    tfidfv.fit(custom_stem_tokenizer(\" \".join(all_texts)))\n",
    "    X = tfidfv.transform(all_texts)\n",
    "    df_ = 1 / (tfidfv.idf_ + 0.1)\n",
    "\n",
    "    n_thresh = 1\n",
    "    n_popular = 1\n",
    "    n_top = 1\n",
    "    popa = set(list(np.argsort(df_)[-n_popular:]))\n",
    "    feature = [int(len(set(row).intersection(popa)) < n_thresh) for row in np.argsort(X.toarray(), axis=1)[:, -n_top:]]\n",
    "    all_features_1 = all_features_1 + feature\n",
    "    \n",
    "    mean_vector = np.asarray(X.mean(0))\n",
    "    similarities = [cosine_similarity(X.getrow(i), mean_vector).item() for i in range(X.shape[0])]\n",
    "    all_cosines = all_cosines + similarities\n",
    "    \n",
    "    sim_matrix = cosine_similarity(X.toarray())\n",
    "    sim_matrix *= (1 - np.eye(X.shape[0]))\n",
    "    all_max_cosines = all_max_cosines + list(sim_matrix.max(1))\n",
    "    all_mean_cosines = all_mean_cosines + list(sim_matrix.mean(1))\n",
    "    \n",
    "    chi2_matrix = chi2_kernel(X.toarray())\n",
    "    chi2_matrix *= (1 - np.eye(X.shape[0]))\n",
    "    all_max_chi2 = all_max_chi2 + list(chi2_matrix.max(1))\n",
    "    all_mean_chi2 = all_mean_chi2 + list(chi2_matrix.mean(1))\n",
    "    \n",
    "    euclidean = euclidean_distances(X.toarray())\n",
    "    euclidean += np.eye(X.shape[0]) * 10\n",
    "    all_eucl = all_eucl + list(euclidean.min(1))\n",
    "    \n",
    "    # score = f1_score(y_pred=feature, y_true=y)\n",
    "    # print(f\"{GROUP}: {score:.3f}\")"
   ]
  },
  {
   "cell_type": "code",
   "execution_count": 137,
   "metadata": {},
   "outputs": [],
   "source": [
    "pairs = np.loadtxt(\"test_groups.csv\", delimiter=',', skiprows=1, usecols=[0]).astype(int)\n",
    "\n",
    "data = pd.DataFrame(np.vstack([pairs, all_features_1]).T, columns=['pair_id', 'value'])\n",
    "data.to_csv('features_plus_titles/test/test_feature_1.csv', index=False)\n",
    "\n",
    "data = pd.DataFrame(np.vstack([pairs, all_cosines]).T, columns=['pair_id', 'value'])\n",
    "data.to_csv('features_plus_titles/test/test_cosines.csv', index=False)\n",
    "\n",
    "data = pd.DataFrame(np.vstack([pairs, all_max_cosines]).T, columns=['pair_id', 'value'])\n",
    "data.to_csv('features_plus_titles/test/test_max_cosines.csv', index=False)\n",
    "\n",
    "data = pd.DataFrame(np.vstack([pairs, all_mean_cosines]).T, columns=['pair_id', 'value'])\n",
    "data.to_csv('features_plus_titles/test/test_mean_cosines.csv', index=False)\n",
    "\n",
    "data = pd.DataFrame(np.vstack([pairs, all_max_chi2]).T, columns=['pair_id', 'value'])\n",
    "data.to_csv('features_plus_titles/test/test_max_chi2.csv', index=False)\n",
    "\n",
    "data = pd.DataFrame(np.vstack([pairs, all_mean_chi2]).T, columns=['pair_id', 'value'])\n",
    "data.to_csv('features_plus_titles/test/test_mean_chi2.csv', index=False)\n",
    "\n",
    "data = pd.DataFrame(np.vstack([pairs, all_eucl]).T, columns=['pair_id', 'value'])\n",
    "data.to_csv('features_plus_titles/test/test_eucl.csv', index=False)"
   ]
  },
  {
   "cell_type": "code",
   "execution_count": 2,
   "metadata": {},
   "outputs": [],
   "source": [
    "feat_1 = np.loadtxt('features/train/train_feature_1.csv', delimiter=',', skiprows=1, usecols=[1])\n",
    "feat_2 = np.loadtxt('features/train/train_cosines.csv', delimiter=',', skiprows=1, usecols=[1])\n",
    "feat_3 = np.loadtxt('features/train/train_max_cosines.csv', delimiter=',', skiprows=1, usecols=[1])\n",
    "feat_4 = np.loadtxt('features/train/train_mean_cosines.csv', delimiter=',', skiprows=1, usecols=[1])\n",
    "feat_5 = np.loadtxt('features/train/train_max_chi2.csv', delimiter=',', skiprows=1, usecols=[1])\n",
    "feat_6 = np.loadtxt('features/train/train_mean_chi2.csv', delimiter=',', skiprows=1, usecols=[1])\n",
    "feat_7 = np.loadtxt('features/train/train_eucl.csv', delimiter=',', skiprows=1, usecols=[1])\n",
    "\n",
    "groups = np.loadtxt(\"train_groups.csv\", delimiter=',', skiprows=1, usecols=[1]).astype(int)\n",
    "y = np.loadtxt(\"train_groups.csv\", delimiter=',', skiprows=1, usecols=[3]).astype(int)\n",
    "trains = pd.DataFrame(np.vstack([groups, feat_1, feat_2, feat_3, feat_4, feat_5, feat_6, feat_7, y]).T, \n",
    "                     columns=['groups', 'feat_1', 'cosines', 'max_cosines', 'mean_cosines', 'max_chi2', 'mean_chi2', 'eucl', 'y'])"
   ]
  },
  {
   "cell_type": "code",
   "execution_count": 3,
   "metadata": {},
   "outputs": [],
   "source": [
    "feat_2 = np.loadtxt('features_plus_titles/train/train_cosines.csv', delimiter=',', skiprows=1, usecols=[1])\n",
    "feat_3 = np.loadtxt('features_plus_titles/train/train_max_cosines.csv', delimiter=',', skiprows=1, usecols=[1])\n",
    "feat_4 = np.loadtxt('features_plus_titles/train/train_mean_cosines.csv', delimiter=',', skiprows=1, usecols=[1])\n",
    "feat_5 = np.loadtxt('features_plus_titles/train/train_max_chi2.csv', delimiter=',', skiprows=1, usecols=[1])\n",
    "feat_6 = np.loadtxt('features_plus_titles/train/train_mean_chi2.csv', delimiter=',', skiprows=1, usecols=[1])\n",
    "feat_7 = np.loadtxt('features_plus_titles/train/train_eucl.csv', delimiter=',', skiprows=1, usecols=[1])\n",
    "\n",
    "groups = np.loadtxt(\"train_groups.csv\", delimiter=',', skiprows=1, usecols=[1]).astype(int)\n",
    "y = np.loadtxt(\"train_groups.csv\", delimiter=',', skiprows=1, usecols=[3]).astype(int)\n",
    "trains = pd.DataFrame(np.vstack([groups, feat_2, feat_3, feat_4, feat_5, feat_6, feat_7, y]).T, \n",
    "                     columns=['groups', 'cosines', 'max_cosines', 'mean_cosines', 'max_chi2', 'mean_chi2', 'eucl', 'y'])"
   ]
  },
  {
   "cell_type": "code",
   "execution_count": 4,
   "metadata": {},
   "outputs": [
    {
     "data": {
      "text/html": [
       "<div>\n",
       "<style scoped>\n",
       "    .dataframe tbody tr th:only-of-type {\n",
       "        vertical-align: middle;\n",
       "    }\n",
       "\n",
       "    .dataframe tbody tr th {\n",
       "        vertical-align: top;\n",
       "    }\n",
       "\n",
       "    .dataframe thead th {\n",
       "        text-align: right;\n",
       "    }\n",
       "</style>\n",
       "<table border=\"1\" class=\"dataframe\">\n",
       "  <thead>\n",
       "    <tr style=\"text-align: right;\">\n",
       "      <th></th>\n",
       "      <th>groups</th>\n",
       "      <th>cosines</th>\n",
       "      <th>max_cosines</th>\n",
       "      <th>mean_cosines</th>\n",
       "      <th>max_chi2</th>\n",
       "      <th>mean_chi2</th>\n",
       "      <th>eucl</th>\n",
       "      <th>y</th>\n",
       "    </tr>\n",
       "  </thead>\n",
       "  <tbody>\n",
       "    <tr>\n",
       "      <th>0</th>\n",
       "      <td>1.0</td>\n",
       "      <td>0.517902</td>\n",
       "      <td>0.933890</td>\n",
       "      <td>0.189952</td>\n",
       "      <td>1.172230e-01</td>\n",
       "      <td>2.658432e-03</td>\n",
       "      <td>0.363620</td>\n",
       "      <td>0.0</td>\n",
       "    </tr>\n",
       "    <tr>\n",
       "      <th>1</th>\n",
       "      <td>1.0</td>\n",
       "      <td>0.503264</td>\n",
       "      <td>0.853094</td>\n",
       "      <td>0.184306</td>\n",
       "      <td>5.249161e-02</td>\n",
       "      <td>2.617308e-03</td>\n",
       "      <td>0.542044</td>\n",
       "      <td>0.0</td>\n",
       "    </tr>\n",
       "    <tr>\n",
       "      <th>2</th>\n",
       "      <td>1.0</td>\n",
       "      <td>0.201224</td>\n",
       "      <td>0.495999</td>\n",
       "      <td>0.067809</td>\n",
       "      <td>1.037870e-02</td>\n",
       "      <td>5.848164e-04</td>\n",
       "      <td>1.003993</td>\n",
       "      <td>0.0</td>\n",
       "    </tr>\n",
       "    <tr>\n",
       "      <th>3</th>\n",
       "      <td>1.0</td>\n",
       "      <td>0.598809</td>\n",
       "      <td>0.776480</td>\n",
       "      <td>0.221158</td>\n",
       "      <td>5.323511e-03</td>\n",
       "      <td>4.803359e-04</td>\n",
       "      <td>0.668611</td>\n",
       "      <td>0.0</td>\n",
       "    </tr>\n",
       "    <tr>\n",
       "      <th>4</th>\n",
       "      <td>1.0</td>\n",
       "      <td>0.536571</td>\n",
       "      <td>0.663544</td>\n",
       "      <td>0.197153</td>\n",
       "      <td>4.603246e-03</td>\n",
       "      <td>3.680424e-04</td>\n",
       "      <td>0.820312</td>\n",
       "      <td>0.0</td>\n",
       "    </tr>\n",
       "    <tr>\n",
       "      <th>...</th>\n",
       "      <td>...</td>\n",
       "      <td>...</td>\n",
       "      <td>...</td>\n",
       "      <td>...</td>\n",
       "      <td>...</td>\n",
       "      <td>...</td>\n",
       "      <td>...</td>\n",
       "      <td>...</td>\n",
       "    </tr>\n",
       "    <tr>\n",
       "      <th>11685</th>\n",
       "      <td>129.0</td>\n",
       "      <td>0.250244</td>\n",
       "      <td>0.286817</td>\n",
       "      <td>0.077572</td>\n",
       "      <td>1.572308e-04</td>\n",
       "      <td>1.293436e-05</td>\n",
       "      <td>1.194305</td>\n",
       "      <td>0.0</td>\n",
       "    </tr>\n",
       "    <tr>\n",
       "      <th>11686</th>\n",
       "      <td>129.0</td>\n",
       "      <td>0.178675</td>\n",
       "      <td>0.305191</td>\n",
       "      <td>0.052244</td>\n",
       "      <td>8.232389e-08</td>\n",
       "      <td>1.057938e-08</td>\n",
       "      <td>1.178821</td>\n",
       "      <td>0.0</td>\n",
       "    </tr>\n",
       "    <tr>\n",
       "      <th>11687</th>\n",
       "      <td>129.0</td>\n",
       "      <td>0.457057</td>\n",
       "      <td>0.313746</td>\n",
       "      <td>0.150763</td>\n",
       "      <td>5.130281e-09</td>\n",
       "      <td>7.121415e-10</td>\n",
       "      <td>1.171540</td>\n",
       "      <td>0.0</td>\n",
       "    </tr>\n",
       "    <tr>\n",
       "      <th>11688</th>\n",
       "      <td>129.0</td>\n",
       "      <td>0.359957</td>\n",
       "      <td>0.607281</td>\n",
       "      <td>0.116400</td>\n",
       "      <td>1.953282e-05</td>\n",
       "      <td>2.646718e-06</td>\n",
       "      <td>0.886250</td>\n",
       "      <td>0.0</td>\n",
       "    </tr>\n",
       "    <tr>\n",
       "      <th>11689</th>\n",
       "      <td>129.0</td>\n",
       "      <td>0.217069</td>\n",
       "      <td>0.236511</td>\n",
       "      <td>0.065832</td>\n",
       "      <td>3.092612e-05</td>\n",
       "      <td>4.201067e-06</td>\n",
       "      <td>1.235709</td>\n",
       "      <td>0.0</td>\n",
       "    </tr>\n",
       "  </tbody>\n",
       "</table>\n",
       "<p>11690 rows × 8 columns</p>\n",
       "</div>"
      ],
      "text/plain": [
       "       groups   cosines  max_cosines  mean_cosines      max_chi2  \\\n",
       "0         1.0  0.517902     0.933890      0.189952  1.172230e-01   \n",
       "1         1.0  0.503264     0.853094      0.184306  5.249161e-02   \n",
       "2         1.0  0.201224     0.495999      0.067809  1.037870e-02   \n",
       "3         1.0  0.598809     0.776480      0.221158  5.323511e-03   \n",
       "4         1.0  0.536571     0.663544      0.197153  4.603246e-03   \n",
       "...       ...       ...          ...           ...           ...   \n",
       "11685   129.0  0.250244     0.286817      0.077572  1.572308e-04   \n",
       "11686   129.0  0.178675     0.305191      0.052244  8.232389e-08   \n",
       "11687   129.0  0.457057     0.313746      0.150763  5.130281e-09   \n",
       "11688   129.0  0.359957     0.607281      0.116400  1.953282e-05   \n",
       "11689   129.0  0.217069     0.236511      0.065832  3.092612e-05   \n",
       "\n",
       "          mean_chi2      eucl    y  \n",
       "0      2.658432e-03  0.363620  0.0  \n",
       "1      2.617308e-03  0.542044  0.0  \n",
       "2      5.848164e-04  1.003993  0.0  \n",
       "3      4.803359e-04  0.668611  0.0  \n",
       "4      3.680424e-04  0.820312  0.0  \n",
       "...             ...       ...  ...  \n",
       "11685  1.293436e-05  1.194305  0.0  \n",
       "11686  1.057938e-08  1.178821  0.0  \n",
       "11687  7.121415e-10  1.171540  0.0  \n",
       "11688  2.646718e-06  0.886250  0.0  \n",
       "11689  4.201067e-06  1.235709  0.0  \n",
       "\n",
       "[11690 rows x 8 columns]"
      ]
     },
     "execution_count": 4,
     "metadata": {},
     "output_type": "execute_result"
    }
   ],
   "source": [
    "trains"
   ]
  },
  {
   "cell_type": "code",
   "execution_count": 71,
   "metadata": {},
   "outputs": [],
   "source": [
    "feat_1 = np.loadtxt('features/test/test_feature_1.csv', delimiter=',', skiprows=1, usecols=[1])\n",
    "feat_2 = np.loadtxt('features/test/test_cosines.csv', delimiter=',', skiprows=1, usecols=[1])\n",
    "feat_3 = np.loadtxt('features/test/test_max_cosines.csv', delimiter=',', skiprows=1, usecols=[1])\n",
    "feat_4 = np.loadtxt('features/test/test_mean_cosines.csv', delimiter=',', skiprows=1, usecols=[1])\n",
    "feat_5 = np.loadtxt('features/test/test_max_chi2.csv', delimiter=',', skiprows=1, usecols=[1])\n",
    "feat_6 = np.loadtxt('features/test/test_mean_chi2.csv', delimiter=',', skiprows=1, usecols=[1])\n",
    "feat_7 = np.loadtxt('features/test/test_eucl.csv', delimiter=',', skiprows=1, usecols=[1])\n",
    "\n",
    "subm_1 = (feat_2 > 0.5).astype(int)\n",
    "groups = np.loadtxt(\"test_groups.csv\", delimiter=',', skiprows=1, usecols=[1]).astype(int)\n",
    "tests = pd.DataFrame(np.vstack([groups, feat_1, feat_2, feat_3, feat_4, feat_5, feat_6, feat_7]).T, \n",
    "                     columns=['groups', 'feat_1', 'cosines', 'max_cosines', 'mean_cosines', 'max_chi2', 'mean_chi2', 'eucl'])"
   ]
  },
  {
   "cell_type": "code",
   "execution_count": 139,
   "metadata": {},
   "outputs": [],
   "source": [
    "feat_2 = np.loadtxt('features_plus_titles/test/test_cosines.csv', delimiter=',', skiprows=1, usecols=[1])\n",
    "feat_3 = np.loadtxt('features_plus_titles/test/test_max_cosines.csv', delimiter=',', skiprows=1, usecols=[1])\n",
    "feat_4 = np.loadtxt('features_plus_titles/test/test_mean_cosines.csv', delimiter=',', skiprows=1, usecols=[1])\n",
    "feat_5 = np.loadtxt('features_plus_titles/test/test_max_chi2.csv', delimiter=',', skiprows=1, usecols=[1])\n",
    "feat_6 = np.loadtxt('features_plus_titles/test/test_mean_chi2.csv', delimiter=',', skiprows=1, usecols=[1])\n",
    "feat_7 = np.loadtxt('features_plus_titles/test/test_eucl.csv', delimiter=',', skiprows=1, usecols=[1])\n",
    "\n",
    "subm_1 = (feat_2 > 0.5).astype(int)\n",
    "groups = np.loadtxt(\"test_groups.csv\", delimiter=',', skiprows=1, usecols=[1]).astype(int)\n",
    "tests = pd.DataFrame(np.vstack([groups, feat_2, feat_3, feat_4, feat_5, feat_6, feat_7]).T, \n",
    "                     columns=['groups', 'cosines', 'max_cosines', 'mean_cosines', 'max_chi2', 'mean_chi2', 'eucl'])"
   ]
  },
  {
   "cell_type": "code",
   "execution_count": 72,
   "metadata": {},
   "outputs": [],
   "source": [
    "collls =  trains.columns\n",
    "for col in range(1, len(collls) - 1):\n",
    "    for col2 in range(col + 1, len(collls) - 1):\n",
    "        name = f\"{collls[col]}_by_{collls[col2]}\"\n",
    "        # print(name)\n",
    "        column1 = collls[col]\n",
    "        column2 = collls[col2]\n",
    "        trains[name] = trains[column1] * trains[column2]"
   ]
  },
  {
   "cell_type": "code",
   "execution_count": 73,
   "metadata": {},
   "outputs": [],
   "source": [
    "collls =  tests.columns\n",
    "for col in range(1, len(collls)):\n",
    "    for col2 in range(col + 1, len(collls)):\n",
    "        name = f\"{collls[col]}_by_{collls[col2]}\"\n",
    "        # print(name)\n",
    "        column1 = collls[col]\n",
    "        column2 = collls[col2]\n",
    "        tests[name] = tests[column1] * tests[column2]"
   ]
  },
  {
   "cell_type": "code",
   "execution_count": 58,
   "metadata": {},
   "outputs": [
    {
     "data": {
      "text/html": [
       "<div>\n",
       "<style scoped>\n",
       "    .dataframe tbody tr th:only-of-type {\n",
       "        vertical-align: middle;\n",
       "    }\n",
       "\n",
       "    .dataframe tbody tr th {\n",
       "        vertical-align: top;\n",
       "    }\n",
       "\n",
       "    .dataframe thead th {\n",
       "        text-align: right;\n",
       "    }\n",
       "</style>\n",
       "<table border=\"1\" class=\"dataframe\">\n",
       "  <thead>\n",
       "    <tr style=\"text-align: right;\">\n",
       "      <th></th>\n",
       "      <th>groups</th>\n",
       "      <th>feat_1</th>\n",
       "      <th>cosines</th>\n",
       "      <th>max_cosines</th>\n",
       "      <th>mean_cosines</th>\n",
       "      <th>max_chi2</th>\n",
       "      <th>mean_chi2</th>\n",
       "      <th>eucl</th>\n",
       "      <th>y</th>\n",
       "      <th>feat_1_by_cosines</th>\n",
       "      <th>...</th>\n",
       "      <th>max_cosines_by_mean_cosines</th>\n",
       "      <th>max_cosines_by_max_chi2</th>\n",
       "      <th>max_cosines_by_mean_chi2</th>\n",
       "      <th>max_cosines_by_eucl</th>\n",
       "      <th>mean_cosines_by_max_chi2</th>\n",
       "      <th>mean_cosines_by_mean_chi2</th>\n",
       "      <th>mean_cosines_by_eucl</th>\n",
       "      <th>max_chi2_by_mean_chi2</th>\n",
       "      <th>max_chi2_by_eucl</th>\n",
       "      <th>mean_chi2_by_eucl</th>\n",
       "    </tr>\n",
       "  </thead>\n",
       "  <tbody>\n",
       "    <tr>\n",
       "      <th>0</th>\n",
       "      <td>1.0</td>\n",
       "      <td>1.0</td>\n",
       "      <td>0.521166</td>\n",
       "      <td>0.932945</td>\n",
       "      <td>0.192518</td>\n",
       "      <td>1.198959e-01</td>\n",
       "      <td>3.007209e-03</td>\n",
       "      <td>0.366209</td>\n",
       "      <td>0.0</td>\n",
       "      <td>0.521166</td>\n",
       "      <td>...</td>\n",
       "      <td>0.179609</td>\n",
       "      <td>1.118564e-01</td>\n",
       "      <td>2.805561e-03</td>\n",
       "      <td>0.341653</td>\n",
       "      <td>2.308213e-02</td>\n",
       "      <td>5.789420e-04</td>\n",
       "      <td>0.070502</td>\n",
       "      <td>3.605521e-04</td>\n",
       "      <td>4.390703e-02</td>\n",
       "      <td>1.101268e-03</td>\n",
       "    </tr>\n",
       "    <tr>\n",
       "      <th>1</th>\n",
       "      <td>1.0</td>\n",
       "      <td>1.0</td>\n",
       "      <td>0.505048</td>\n",
       "      <td>0.854709</td>\n",
       "      <td>0.186261</td>\n",
       "      <td>5.580970e-02</td>\n",
       "      <td>2.819831e-03</td>\n",
       "      <td>0.539057</td>\n",
       "      <td>0.0</td>\n",
       "      <td>0.505048</td>\n",
       "      <td>...</td>\n",
       "      <td>0.159199</td>\n",
       "      <td>4.770105e-02</td>\n",
       "      <td>2.410135e-03</td>\n",
       "      <td>0.460737</td>\n",
       "      <td>1.039516e-02</td>\n",
       "      <td>5.252241e-04</td>\n",
       "      <td>0.100405</td>\n",
       "      <td>1.573739e-04</td>\n",
       "      <td>3.008460e-02</td>\n",
       "      <td>1.520049e-03</td>\n",
       "    </tr>\n",
       "    <tr>\n",
       "      <th>2</th>\n",
       "      <td>1.0</td>\n",
       "      <td>1.0</td>\n",
       "      <td>0.201541</td>\n",
       "      <td>0.497853</td>\n",
       "      <td>0.068437</td>\n",
       "      <td>1.126110e-02</td>\n",
       "      <td>6.426828e-04</td>\n",
       "      <td>1.002145</td>\n",
       "      <td>0.0</td>\n",
       "      <td>0.201541</td>\n",
       "      <td>...</td>\n",
       "      <td>0.034071</td>\n",
       "      <td>5.606367e-03</td>\n",
       "      <td>3.199613e-04</td>\n",
       "      <td>0.498921</td>\n",
       "      <td>7.706703e-04</td>\n",
       "      <td>4.398297e-05</td>\n",
       "      <td>0.068583</td>\n",
       "      <td>7.237313e-06</td>\n",
       "      <td>1.128525e-02</td>\n",
       "      <td>6.440614e-04</td>\n",
       "    </tr>\n",
       "    <tr>\n",
       "      <th>3</th>\n",
       "      <td>1.0</td>\n",
       "      <td>0.0</td>\n",
       "      <td>0.596687</td>\n",
       "      <td>0.779414</td>\n",
       "      <td>0.221836</td>\n",
       "      <td>5.473449e-03</td>\n",
       "      <td>5.137912e-04</td>\n",
       "      <td>0.664208</td>\n",
       "      <td>0.0</td>\n",
       "      <td>0.000000</td>\n",
       "      <td>...</td>\n",
       "      <td>0.172902</td>\n",
       "      <td>4.266082e-03</td>\n",
       "      <td>4.004560e-04</td>\n",
       "      <td>0.517693</td>\n",
       "      <td>1.214209e-03</td>\n",
       "      <td>1.139775e-04</td>\n",
       "      <td>0.147345</td>\n",
       "      <td>2.812210e-06</td>\n",
       "      <td>3.635509e-03</td>\n",
       "      <td>3.412643e-04</td>\n",
       "    </tr>\n",
       "    <tr>\n",
       "      <th>4</th>\n",
       "      <td>1.0</td>\n",
       "      <td>1.0</td>\n",
       "      <td>0.537996</td>\n",
       "      <td>0.664296</td>\n",
       "      <td>0.199052</td>\n",
       "      <td>5.288895e-03</td>\n",
       "      <td>4.014840e-04</td>\n",
       "      <td>0.819395</td>\n",
       "      <td>0.0</td>\n",
       "      <td>0.537996</td>\n",
       "      <td>...</td>\n",
       "      <td>0.132229</td>\n",
       "      <td>3.513392e-03</td>\n",
       "      <td>2.667043e-04</td>\n",
       "      <td>0.544321</td>\n",
       "      <td>1.052763e-03</td>\n",
       "      <td>7.991601e-05</td>\n",
       "      <td>0.163102</td>\n",
       "      <td>2.123407e-06</td>\n",
       "      <td>4.333692e-03</td>\n",
       "      <td>3.289739e-04</td>\n",
       "    </tr>\n",
       "    <tr>\n",
       "      <th>...</th>\n",
       "      <td>...</td>\n",
       "      <td>...</td>\n",
       "      <td>...</td>\n",
       "      <td>...</td>\n",
       "      <td>...</td>\n",
       "      <td>...</td>\n",
       "      <td>...</td>\n",
       "      <td>...</td>\n",
       "      <td>...</td>\n",
       "      <td>...</td>\n",
       "      <td>...</td>\n",
       "      <td>...</td>\n",
       "      <td>...</td>\n",
       "      <td>...</td>\n",
       "      <td>...</td>\n",
       "      <td>...</td>\n",
       "      <td>...</td>\n",
       "      <td>...</td>\n",
       "      <td>...</td>\n",
       "      <td>...</td>\n",
       "      <td>...</td>\n",
       "    </tr>\n",
       "    <tr>\n",
       "      <th>11685</th>\n",
       "      <td>129.0</td>\n",
       "      <td>1.0</td>\n",
       "      <td>0.249314</td>\n",
       "      <td>0.286797</td>\n",
       "      <td>0.077807</td>\n",
       "      <td>1.610774e-04</td>\n",
       "      <td>1.338268e-05</td>\n",
       "      <td>1.194322</td>\n",
       "      <td>0.0</td>\n",
       "      <td>0.249314</td>\n",
       "      <td>...</td>\n",
       "      <td>0.022315</td>\n",
       "      <td>4.619651e-05</td>\n",
       "      <td>3.838112e-06</td>\n",
       "      <td>0.342528</td>\n",
       "      <td>1.253294e-05</td>\n",
       "      <td>1.041266e-06</td>\n",
       "      <td>0.092927</td>\n",
       "      <td>2.155647e-09</td>\n",
       "      <td>1.923783e-04</td>\n",
       "      <td>1.598323e-05</td>\n",
       "    </tr>\n",
       "    <tr>\n",
       "      <th>11686</th>\n",
       "      <td>129.0</td>\n",
       "      <td>1.0</td>\n",
       "      <td>0.178104</td>\n",
       "      <td>0.305238</td>\n",
       "      <td>0.052445</td>\n",
       "      <td>8.420643e-08</td>\n",
       "      <td>1.092573e-08</td>\n",
       "      <td>1.178781</td>\n",
       "      <td>0.0</td>\n",
       "      <td>0.178104</td>\n",
       "      <td>...</td>\n",
       "      <td>0.016008</td>\n",
       "      <td>2.570298e-08</td>\n",
       "      <td>3.334946e-09</td>\n",
       "      <td>0.359808</td>\n",
       "      <td>4.416186e-09</td>\n",
       "      <td>5.729976e-10</td>\n",
       "      <td>0.061821</td>\n",
       "      <td>9.200171e-16</td>\n",
       "      <td>9.926094e-08</td>\n",
       "      <td>1.287905e-08</td>\n",
       "    </tr>\n",
       "    <tr>\n",
       "      <th>11687</th>\n",
       "      <td>129.0</td>\n",
       "      <td>1.0</td>\n",
       "      <td>0.457982</td>\n",
       "      <td>0.313762</td>\n",
       "      <td>0.152126</td>\n",
       "      <td>5.946014e-09</td>\n",
       "      <td>7.660163e-10</td>\n",
       "      <td>1.171527</td>\n",
       "      <td>0.0</td>\n",
       "      <td>0.457982</td>\n",
       "      <td>...</td>\n",
       "      <td>0.047732</td>\n",
       "      <td>1.865636e-09</td>\n",
       "      <td>2.403471e-10</td>\n",
       "      <td>0.367581</td>\n",
       "      <td>9.045463e-10</td>\n",
       "      <td>1.165314e-10</td>\n",
       "      <td>0.178220</td>\n",
       "      <td>4.554744e-18</td>\n",
       "      <td>6.965915e-09</td>\n",
       "      <td>8.974086e-10</td>\n",
       "    </tr>\n",
       "    <tr>\n",
       "      <th>11688</th>\n",
       "      <td>129.0</td>\n",
       "      <td>1.0</td>\n",
       "      <td>0.365622</td>\n",
       "      <td>0.588345</td>\n",
       "      <td>0.119231</td>\n",
       "      <td>2.114201e-05</td>\n",
       "      <td>2.850339e-06</td>\n",
       "      <td>0.907365</td>\n",
       "      <td>0.0</td>\n",
       "      <td>0.365622</td>\n",
       "      <td>...</td>\n",
       "      <td>0.070149</td>\n",
       "      <td>1.243879e-05</td>\n",
       "      <td>1.676982e-06</td>\n",
       "      <td>0.533843</td>\n",
       "      <td>2.520790e-06</td>\n",
       "      <td>3.398498e-07</td>\n",
       "      <td>0.108186</td>\n",
       "      <td>6.026191e-11</td>\n",
       "      <td>1.918351e-05</td>\n",
       "      <td>2.586297e-06</td>\n",
       "    </tr>\n",
       "    <tr>\n",
       "      <th>11689</th>\n",
       "      <td>129.0</td>\n",
       "      <td>1.0</td>\n",
       "      <td>0.218658</td>\n",
       "      <td>0.236421</td>\n",
       "      <td>0.066889</td>\n",
       "      <td>3.036620e-05</td>\n",
       "      <td>4.186786e-06</td>\n",
       "      <td>1.235783</td>\n",
       "      <td>0.0</td>\n",
       "      <td>0.218658</td>\n",
       "      <td>...</td>\n",
       "      <td>0.015814</td>\n",
       "      <td>7.179196e-06</td>\n",
       "      <td>9.898426e-07</td>\n",
       "      <td>0.292165</td>\n",
       "      <td>2.031151e-06</td>\n",
       "      <td>2.800480e-07</td>\n",
       "      <td>0.082660</td>\n",
       "      <td>1.271368e-10</td>\n",
       "      <td>3.752602e-05</td>\n",
       "      <td>5.173957e-06</td>\n",
       "    </tr>\n",
       "  </tbody>\n",
       "</table>\n",
       "<p>11690 rows × 30 columns</p>\n",
       "</div>"
      ],
      "text/plain": [
       "       groups  feat_1   cosines  max_cosines  mean_cosines      max_chi2  \\\n",
       "0         1.0     1.0  0.521166     0.932945      0.192518  1.198959e-01   \n",
       "1         1.0     1.0  0.505048     0.854709      0.186261  5.580970e-02   \n",
       "2         1.0     1.0  0.201541     0.497853      0.068437  1.126110e-02   \n",
       "3         1.0     0.0  0.596687     0.779414      0.221836  5.473449e-03   \n",
       "4         1.0     1.0  0.537996     0.664296      0.199052  5.288895e-03   \n",
       "...       ...     ...       ...          ...           ...           ...   \n",
       "11685   129.0     1.0  0.249314     0.286797      0.077807  1.610774e-04   \n",
       "11686   129.0     1.0  0.178104     0.305238      0.052445  8.420643e-08   \n",
       "11687   129.0     1.0  0.457982     0.313762      0.152126  5.946014e-09   \n",
       "11688   129.0     1.0  0.365622     0.588345      0.119231  2.114201e-05   \n",
       "11689   129.0     1.0  0.218658     0.236421      0.066889  3.036620e-05   \n",
       "\n",
       "          mean_chi2      eucl    y  feat_1_by_cosines  ...  \\\n",
       "0      3.007209e-03  0.366209  0.0           0.521166  ...   \n",
       "1      2.819831e-03  0.539057  0.0           0.505048  ...   \n",
       "2      6.426828e-04  1.002145  0.0           0.201541  ...   \n",
       "3      5.137912e-04  0.664208  0.0           0.000000  ...   \n",
       "4      4.014840e-04  0.819395  0.0           0.537996  ...   \n",
       "...             ...       ...  ...                ...  ...   \n",
       "11685  1.338268e-05  1.194322  0.0           0.249314  ...   \n",
       "11686  1.092573e-08  1.178781  0.0           0.178104  ...   \n",
       "11687  7.660163e-10  1.171527  0.0           0.457982  ...   \n",
       "11688  2.850339e-06  0.907365  0.0           0.365622  ...   \n",
       "11689  4.186786e-06  1.235783  0.0           0.218658  ...   \n",
       "\n",
       "       max_cosines_by_mean_cosines  max_cosines_by_max_chi2  \\\n",
       "0                         0.179609             1.118564e-01   \n",
       "1                         0.159199             4.770105e-02   \n",
       "2                         0.034071             5.606367e-03   \n",
       "3                         0.172902             4.266082e-03   \n",
       "4                         0.132229             3.513392e-03   \n",
       "...                            ...                      ...   \n",
       "11685                     0.022315             4.619651e-05   \n",
       "11686                     0.016008             2.570298e-08   \n",
       "11687                     0.047732             1.865636e-09   \n",
       "11688                     0.070149             1.243879e-05   \n",
       "11689                     0.015814             7.179196e-06   \n",
       "\n",
       "       max_cosines_by_mean_chi2  max_cosines_by_eucl  \\\n",
       "0                  2.805561e-03             0.341653   \n",
       "1                  2.410135e-03             0.460737   \n",
       "2                  3.199613e-04             0.498921   \n",
       "3                  4.004560e-04             0.517693   \n",
       "4                  2.667043e-04             0.544321   \n",
       "...                         ...                  ...   \n",
       "11685              3.838112e-06             0.342528   \n",
       "11686              3.334946e-09             0.359808   \n",
       "11687              2.403471e-10             0.367581   \n",
       "11688              1.676982e-06             0.533843   \n",
       "11689              9.898426e-07             0.292165   \n",
       "\n",
       "       mean_cosines_by_max_chi2  mean_cosines_by_mean_chi2  \\\n",
       "0                  2.308213e-02               5.789420e-04   \n",
       "1                  1.039516e-02               5.252241e-04   \n",
       "2                  7.706703e-04               4.398297e-05   \n",
       "3                  1.214209e-03               1.139775e-04   \n",
       "4                  1.052763e-03               7.991601e-05   \n",
       "...                         ...                        ...   \n",
       "11685              1.253294e-05               1.041266e-06   \n",
       "11686              4.416186e-09               5.729976e-10   \n",
       "11687              9.045463e-10               1.165314e-10   \n",
       "11688              2.520790e-06               3.398498e-07   \n",
       "11689              2.031151e-06               2.800480e-07   \n",
       "\n",
       "       mean_cosines_by_eucl  max_chi2_by_mean_chi2  max_chi2_by_eucl  \\\n",
       "0                  0.070502           3.605521e-04      4.390703e-02   \n",
       "1                  0.100405           1.573739e-04      3.008460e-02   \n",
       "2                  0.068583           7.237313e-06      1.128525e-02   \n",
       "3                  0.147345           2.812210e-06      3.635509e-03   \n",
       "4                  0.163102           2.123407e-06      4.333692e-03   \n",
       "...                     ...                    ...               ...   \n",
       "11685              0.092927           2.155647e-09      1.923783e-04   \n",
       "11686              0.061821           9.200171e-16      9.926094e-08   \n",
       "11687              0.178220           4.554744e-18      6.965915e-09   \n",
       "11688              0.108186           6.026191e-11      1.918351e-05   \n",
       "11689              0.082660           1.271368e-10      3.752602e-05   \n",
       "\n",
       "       mean_chi2_by_eucl  \n",
       "0           1.101268e-03  \n",
       "1           1.520049e-03  \n",
       "2           6.440614e-04  \n",
       "3           3.412643e-04  \n",
       "4           3.289739e-04  \n",
       "...                  ...  \n",
       "11685       1.598323e-05  \n",
       "11686       1.287905e-08  \n",
       "11687       8.974086e-10  \n",
       "11688       2.586297e-06  \n",
       "11689       5.173957e-06  \n",
       "\n",
       "[11690 rows x 30 columns]"
      ]
     },
     "execution_count": 58,
     "metadata": {},
     "output_type": "execute_result"
    }
   ],
   "source": [
    "trains"
   ]
  },
  {
   "cell_type": "code",
   "execution_count": 63,
   "metadata": {},
   "outputs": [],
   "source": [
    "from sklearn.model_selection import train_test_split\n",
    "\n",
    "train_groups, test_groups = train_test_split(np.arange(1, 130), test_size=0.15, random_state=69)"
   ]
  },
  {
   "cell_type": "code",
   "execution_count": 64,
   "metadata": {},
   "outputs": [],
   "source": [
    "trains = None\n",
    "for group in train_groups:\n",
    "    df_ = dataf[dataf['groups'] == group]\n",
    "    trains = df_ if trains is None else pd.concat([trains, df_], axis=0)"
   ]
  },
  {
   "cell_type": "code",
   "execution_count": 65,
   "metadata": {},
   "outputs": [],
   "source": [
    "tests = None\n",
    "for group in test_groups:\n",
    "    df_ = dataf[dataf['groups'] == group]\n",
    "    tests = df_ if tests is None else pd.concat([tests, df_], axis=0)"
   ]
  },
  {
   "cell_type": "code",
   "execution_count": 140,
   "metadata": {},
   "outputs": [],
   "source": [
    "X_train = trains.drop(['groups', 'y'], axis=1).values\n",
    "y_train = trains['y'].values\n",
    "X_test = tests.drop(['groups'], axis=1).values\n",
    "# y_test = tests.iloc[:, -1].values"
   ]
  },
  {
   "cell_type": "code",
   "execution_count": 49,
   "metadata": {},
   "outputs": [],
   "source": [
    "from sklearn.tree import DecisionTreeClassifier\n",
    "from sklearn.ensemble import RandomForestClassifier\n",
    "from sklearn.linear_model import LogisticRegression\n",
    "from xgboost import XGBClassifier"
   ]
  },
  {
   "cell_type": "code",
   "execution_count": 50,
   "metadata": {},
   "outputs": [],
   "source": [
    "from lightgbm import LGBMClassifier"
   ]
  },
  {
   "cell_type": "code",
   "execution_count": 73,
   "metadata": {},
   "outputs": [
    {
     "name": "stdout",
     "output_type": "stream",
     "text": [
      "Train: f1_score: 0.477, accuracy: 0.787, \n"
     ]
    }
   ],
   "source": [
    "tree = DecisionTreeClassifier(max_depth=1)\n",
    "forest = RandomForestClassifier(max_depth=7)\n",
    "lr = LogisticRegression()\n",
    "\n",
    "model = forest\n",
    "model.fit(X_train, y_train)\n",
    "preds = model.predict(X_test)\n",
    "\n",
    "print(f\"Train: f1_score: {f1_score(y_pred=model.predict(X_train), y_true=y_train):.3f}, accuracy: {accuracy_score(y_pred=model.predict(X_train), y_true=y_train):.3f}, \")\n",
    "# print(f\"Test: f1_score: {f1_score(y_pred=preds, y_true=y_test):.3f}, accuracy: {accuracy_score(y_pred=preds, y_true=y_test):.3f}, \")"
   ]
  },
  {
   "cell_type": "code",
   "execution_count": 130,
   "metadata": {},
   "outputs": [],
   "source": [
    "tree_1 = DecisionTreeClassifier(max_depth=5)\n",
    "tree_2 = DecisionTreeClassifier(max_depth=1)\n",
    "forest_1 = RandomForestClassifier(max_depth=5)\n",
    "\n",
    "\n",
    "model = tree_1\n",
    "model.fit(X_train, y_train)\n",
    "subm_2_test = model.predict(X_test)\n",
    "subm_2_train = model.predict(X_train)\n",
    "\n",
    "model = tree_2\n",
    "model.fit(X_train, y_train)\n",
    "subm_3_test = model.predict(X_test)\n",
    "subm_3_train = model.predict(X_train)\n",
    "\n",
    "model = forest_1\n",
    "model.fit(X_train, y_train)\n",
    "subm_4_test = model.predict(X_test)\n",
    "subm_4_train = model.predict(X_train)\n",
    "\n",
    "trains['subm_1'] = (trains['feat_1'] > 0.5).astype(int)\n",
    "tests['subm_1'] = (tests['feat_1'] > 0.5).astype(int)\n",
    "trains['subm_2'] = subm_2_train\n",
    "tests['subm_2'] = subm_2_test\n",
    "trains['subm_3'] = subm_3_train\n",
    "tests['subm_3'] = subm_3_test\n",
    "trains['subm_4'] = subm_4_train\n",
    "tests['subm_4'] = subm_4_test\n",
    "\n",
    "trains = trains[['groups', 'feat_1', 'cosines', 'max_cosines', 'mean_cosines', 'max_chi2', 'mean_chi2', 'subm_1', 'subm_2', 'subm_3', 'subm_4', 'y']]\n",
    "tests = tests[['groups', 'feat_1', 'cosines', 'max_cosines', 'mean_cosines', 'max_chi2', 'mean_chi2', 'subm_1', 'subm_2', 'subm_3', 'subm_4']]\n",
    "X_train = trains.iloc[:, 1:-1].values\n",
    "y_train = trains.iloc[:, -1].values\n",
    "X_test = tests.iloc[:, 1:].values\n",
    "# y_test = tests.iloc[:, -1].values"
   ]
  },
  {
   "cell_type": "code",
   "execution_count": 154,
   "metadata": {},
   "outputs": [
    {
     "name": "stdout",
     "output_type": "stream",
     "text": [
      "Train: f1_score: 0.605, accuracy: 0.796, \n"
     ]
    }
   ],
   "source": [
    "tree = DecisionTreeClassifier(max_depth=5)\n",
    "forest = RandomForestClassifier(max_depth=5)\n",
    "lr = LogisticRegression()\n",
    "boosting = XGBClassifier(max_depth=5, n_estimators=11)\n",
    "# boosting = LGBMClassifier(max_depth=3)\n",
    "\n",
    "model = tree\n",
    "model.fit(X_train, y_train)\n",
    "preds = model.predict(X_test)\n",
    "\n",
    "print(f\"Train: f1_score: {f1_score(y_pred=model.predict(X_train), y_true=y_train):.3f}, accuracy: {accuracy_score(y_pred=model.predict(X_train), y_true=y_train):.3f}, \")\n",
    "# print(f\"Test: f1_score: {f1_score(y_pred=preds, y_true=y_test):.3f}, accuracy: {accuracy_score(y_pred=preds, y_true=y_test):.3f}, \")"
   ]
  },
  {
   "cell_type": "code",
   "execution_count": 155,
   "metadata": {},
   "outputs": [],
   "source": [
    "pairs = np.loadtxt(\"test_groups.csv\", delimiter=',', skiprows=1, usecols=[0]).astype(int)\n",
    "\n",
    "data = pd.DataFrame(np.vstack([pairs, preds]).T, columns=['pair_id', 'target']).astype(int)\n",
    "data.to_csv('submissions/0106/tree_1_titles_md1.csv', index=False)"
   ]
  },
  {
   "cell_type": "code",
   "execution_count": 156,
   "metadata": {},
   "outputs": [],
   "source": [
    "preds1 = pd.read_csv(\"submissions/3105/boosting_6_md5_ne11_eucl.csv\")\n",
    "preds2 = pd.read_csv(\"submissions/3005/boosting_3_md5_ne10_eucl.csv\")\n",
    "preds3 = pd.read_csv(\"submissions/3005/forest_1_md5.csv\")\n",
    "preds4 = pd.read_csv(\"submissions/0106/boosting_2_titles_md5_ne11.csv\")\n",
    "preds5 = pd.read_csv('submissions/0106/forest_1_titles_md5_ne11.csv')\n",
    "preds6 = pd.read_csv('submissions/0106/forest_2_titles_md5_ne11.csv')\n",
    "preds7 = pd.read_csv('submissions/0106/tree_1_titles_md1.csv')\n"
   ]
  },
  {
   "cell_type": "code",
   "execution_count": 159,
   "metadata": {},
   "outputs": [],
   "source": [
    "pairs = np.loadtxt(\"test_groups.csv\", delimiter=',', skiprows=1, usecols=[0]).astype(int)\n",
    "\n",
    "data = pd.DataFrame(np.vstack([pairs, np.clip((preds1['target'] + preds2['target'] + preds3['target'] + preds4['target'] + preds5['target'] + preds6['target']+ preds7['target']).values, 0, 1)]).T, columns=['pair_id', 'target']).astype(int)\n",
    "data.to_csv('submissions/0106/best_sum_titles_3.csv', index=False)"
   ]
  },
  {
   "cell_type": "code",
   "execution_count": null,
   "metadata": {},
   "outputs": [],
   "source": []
  },
  {
   "cell_type": "code",
   "execution_count": null,
   "metadata": {},
   "outputs": [],
   "source": []
  },
  {
   "cell_type": "code",
   "execution_count": null,
   "metadata": {},
   "outputs": [],
   "source": []
  },
  {
   "cell_type": "code",
   "execution_count": null,
   "metadata": {},
   "outputs": [],
   "source": []
  },
  {
   "cell_type": "code",
   "execution_count": null,
   "metadata": {},
   "outputs": [],
   "source": []
  },
  {
   "cell_type": "code",
   "execution_count": null,
   "metadata": {},
   "outputs": [],
   "source": []
  },
  {
   "cell_type": "code",
   "execution_count": null,
   "metadata": {},
   "outputs": [],
   "source": []
  },
  {
   "cell_type": "code",
   "execution_count": null,
   "metadata": {},
   "outputs": [],
   "source": []
  },
  {
   "cell_type": "code",
   "execution_count": null,
   "metadata": {},
   "outputs": [],
   "source": []
  },
  {
   "cell_type": "code",
   "execution_count": null,
   "metadata": {},
   "outputs": [],
   "source": []
  },
  {
   "cell_type": "code",
   "execution_count": null,
   "metadata": {},
   "outputs": [],
   "source": []
  },
  {
   "cell_type": "code",
   "execution_count": null,
   "metadata": {},
   "outputs": [],
   "source": []
  },
  {
   "cell_type": "code",
   "execution_count": null,
   "metadata": {},
   "outputs": [],
   "source": []
  },
  {
   "cell_type": "code",
   "execution_count": null,
   "metadata": {},
   "outputs": [],
   "source": []
  }
 ],
 "metadata": {
  "kernelspec": {
   "display_name": "Python 3",
   "language": "python",
   "name": "python3"
  },
  "language_info": {
   "codemirror_mode": {
    "name": "ipython",
    "version": 3
   },
   "file_extension": ".py",
   "mimetype": "text/x-python",
   "name": "python",
   "nbconvert_exporter": "python",
   "pygments_lexer": "ipython3",
   "version": "3.11.1"
  }
 },
 "nbformat": 4,
 "nbformat_minor": 2
}
